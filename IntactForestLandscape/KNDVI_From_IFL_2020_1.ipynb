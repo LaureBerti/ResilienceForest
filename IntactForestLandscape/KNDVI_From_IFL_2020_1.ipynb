{
  "nbformat": 4,
  "nbformat_minor": 0,
  "metadata": {
    "colab": {
      "provenance": [],
      "machine_shape": "hm",
      "gpuType": "T4",
      "authorship_tag": "ABX9TyOWm2zeG8ta1S3w287gLs05",
      "include_colab_link": true
    },
    "kernelspec": {
      "name": "python3",
      "display_name": "Python 3"
    },
    "language_info": {
      "name": "python"
    },
    "accelerator": "GPU"
  },
  "cells": [
    {
      "cell_type": "markdown",
      "metadata": {
        "id": "view-in-github",
        "colab_type": "text"
      },
      "source": [
        "<a href=\"https://colab.research.google.com/github/PiuChu/ResilienceForest/blob/main/KNDVI_From_IFL_2020_1.ipynb\" target=\"_parent\"><img src=\"https://colab.research.google.com/assets/colab-badge.svg\" alt=\"Open In Colab\"/></a>"
      ]
    },
    {
      "cell_type": "markdown",
      "source": [
        "This code was used to extract the coordinates coresponding to the IFL_2000 global forest dataset.\n",
        "\n",
        "#\n",
        "\"\"\"\n",
        "Created on Mon June 17 22:52:55 2024\n",
        "\n",
        "@author: Pius N.Nwachukwu\n",
        "\"\"\""
      ],
      "metadata": {
        "id": "DL-2uLiGOkwK"
      }
    },
    {
      "cell_type": "code",
      "execution_count": 2,
      "metadata": {
        "colab": {
          "base_uri": "https://localhost:8080/",
          "height": 35
        },
        "id": "zlfE5VEMxvZ3",
        "outputId": "2599f1a3-5240-41ac-d8ef-21bcb7fedf13"
      },
      "outputs": [
        {
          "output_type": "stream",
          "name": "stdout",
          "text": [
            "Mounted at /content/drive\n"
          ]
        }
      ],
      "source": [
        "# Import required libraries\n",
        "import ee\n",
        "import geemap\n",
        "import pandas as pd\n",
        "import numpy as np\n",
        "\n",
        "# Authenticate and initialize Earth Engine\n",
        "ee.Authenticate()\n",
        "ee.Initialize(project='ee-')\n",
        "\n",
        "# Mount Google Drive\n",
        "from google.colab import drive\n",
        "drive.mount('/content/drive')"
      ]
    },
    {
      "cell_type": "markdown",
      "source": [
        "# Define your bounding boxes as a list of dictionaries"
      ],
      "metadata": {
        "id": "nIKPciLlqrEg"
      }
    },
    {
      "cell_type": "code",
      "source": [
        "# Define your bounding boxes as a list of dictionaries\n",
        "bounding_boxes = [\n",
        "    {'name': 'Africa', 'bbox': ee.Geometry.Rectangle([19.85,-3.16, 22.39,-1.31])},\n",
        "    {'name': 'Asia', 'bbox': ee.Geometry.Rectangle([101.23,29.02, 102.10,29.54])},\n",
        "    {'name': 'Aust_Ocean', 'bbox': ee.Geometry.Rectangle([122.37,-33.08, 122.85,-32.49])},\n",
        "    {'name': 'Europe', 'bbox': ee.Geometry.Rectangle([22.45,45.12, 22.97,45.47])},\n",
        "    {'name': 'Nth_America', 'bbox': ee.Geometry.Rectangle([-121.68,48.02, -119.80,49.01])},\n",
        "    {'name': 'Sth_America', 'bbox': ee.Geometry.Rectangle([-60.70,-9.18, -58.42,-7.56])}\n",
        "]\n",
        "\n",
        "# Load the NDVI dataset (select a single image for faster processing)\n",
        "dataset = ee.ImageCollection('MODIS/061/MOD13A2').select('NDVI').first()\n",
        "\n",
        "def extract_pixel_coordinates(bbox, name, scale=500): # Scale is the pixel resolution\n",
        "    \"\"\"Extracts latitude and longitude of each pixel within a bounding box.\"\"\"\n",
        "\n",
        "    projection = dataset.projection()  # Use MODIS projection\n",
        "\n",
        "    # Generate a grid of points within the bounding box\n",
        "    pixel_coords = ee.FeatureCollection.randomPoints(\n",
        "        region=bbox,\n",
        "        points=1000, # Adjust the number of points as needed\n",
        "        seed=0 # For reproducibility\n",
        "    ).geometry().coordinates().getInfo()\n",
        "\n",
        "    pixel_data = []\n",
        "    for lon, lat in pixel_coords:\n",
        "        pixel_data.append({\n",
        "            'Region': name,\n",
        "            'Latitude': lat,\n",
        "            'Longitude': lon\n",
        "        })\n",
        "\n",
        "    return pixel_data\n",
        "\n",
        "# Initialize a list to store all pixel data\n",
        "all_pixel_data = []\n",
        "\n",
        "# Loop through bounding boxes and extract pixel coordinates\n",
        "for region in bounding_boxes:\n",
        "    bbox = region['bbox']\n",
        "    name = region['name']\n",
        "    region_pixel_data = extract_pixel_coordinates(bbox, name)\n",
        "    all_pixel_data.extend(region_pixel_data)\n",
        "\n",
        "# Convert the data to a pandas DataFrame\n",
        "df = pd.DataFrame(all_pixel_data)\n",
        "print(df.head())\n",
        "# Execution output from 29 Jun 2024 09:51\n",
        "\n"
      ],
      "metadata": {
        "id": "MxNbhugd_Omk",
        "colab": {
          "base_uri": "https://localhost:8080/",
          "height": 124
        },
        "outputId": "213a821b-3b78-45a9-ad51-a7ee80c58e3f"
      },
      "execution_count": null,
      "outputs": [
        {
          "output_type": "display_data",
          "data": {
            "text/plain": [
              "<IPython.core.display.HTML object>"
            ],
            "text/html": [
              "\n",
              "            <style>\n",
              "                .geemap-dark {\n",
              "                    --jp-widgets-color: white;\n",
              "                    --jp-widgets-label-color: white;\n",
              "                    --jp-ui-font-color1: white;\n",
              "                    --jp-layout-color2: #454545;\n",
              "                    background-color: #383838;\n",
              "                }\n",
              "\n",
              "                .geemap-dark .jupyter-button {\n",
              "                    --jp-layout-color3: #383838;\n",
              "                }\n",
              "\n",
              "                .geemap-colab {\n",
              "                    background-color: var(--colab-primary-surface-color, white);\n",
              "                }\n",
              "\n",
              "                .geemap-colab .jupyter-button {\n",
              "                    --jp-layout-color3: var(--colab-primary-surface-color, white);\n",
              "                }\n",
              "            </style>\n",
              "            "
            ]
          },
          "metadata": {}
        },
        {
          "output_type": "stream",
          "name": "stdout",
          "text": [
            "   Region  Latitude  Longitude\n",
            "0  Africa -2.726313  21.401070\n",
            "1  Africa -1.376595  22.311225\n",
            "2  Africa -2.011930  21.874600\n",
            "3  Africa -3.111285  22.146017\n",
            "4  Africa -2.451708  20.061987\n"
          ]
        }
      ]
    },
    {
      "source": [
        "\n",
        "\n",
        "\n",
        "\n",
        "def extract_ndvi_timeseries(row, start_date='2000-02-18', end_date='2023-06-21'):\n",
        "    \"\"\"Extracts NDVI time series for a given point.\"\"\"\n",
        "\n",
        "    lon = row['Longitude']\n",
        "    lat = row['Latitude']\n",
        "    region_name = row['Region']\n",
        "\n",
        "    # Create the point with the correct projection\n",
        "    point = ee.Geometry.Point(lon, lat).transform(dataset.projection())\n",
        "\n",
        "    collection = ee.ImageCollection('MODIS/061/MOD13A2') \\\n",
        "                  .filterBounds(point) \\\n",
        "                  .filterDate(start_date, end_date) \\\n",
        "                  .select('NDVI')\n",
        "\n",
        "    def extract_ndvi(image):\n",
        "        date = image.date().format('YYYY-MM-dd')\n",
        "        ndvi = image.reduceRegion(\n",
        "            reducer=ee.Reducer.first(),\n",
        "            geometry=point,\n",
        "            scale=500 # Use the native scale of MODIS NDVI\n",
        "        ).get('NDVI')\n",
        "        return ee.Feature(None, {'Region': region_name, 'Latitude': lat, 'Longitude': lon, 'Date': date, 'NDVI': ndvi})\n",
        "\n",
        "    # Calculate NDVI values on the server-side\n",
        "    ndvi_data = collection.map(extract_ndvi).getInfo()\n",
        "\n",
        "    time_series_data = []\n",
        "    # Extract relevant data from the Feature objects\n",
        "    for feature in ndvi_data['features']:\n",
        "        time_series_data.append({\n",
        "            'Region': feature['properties']['Region'],\n",
        "            'Latitude': feature['properties']['Latitude'],\n",
        "            'Longitude': feature['properties']['Longitude'],\n",
        "            'Date': feature['properties']['Date'],\n",
        "            'NDVI': feature['properties'].get('NDVI', None) # Handle potential missing values\n",
        "        })\n",
        "\n",
        "    return time_series_data\n",
        "\n",
        "\n",
        "\n",
        "# Extract NDVI time series for each coordinate\n",
        "all_time_series_data = []\n",
        "for index, row in df.iterrows():\n",
        "    time_series_data = extract_ndvi_timeseries(row)\n",
        "    all_time_series_data.extend(time_series_data)\n",
        "\n",
        "# Create a DataFrame from the extracted NDVI time series data\n",
        "ndvi_df = pd.DataFrame(all_time_series_data)\n",
        "print(ndvi_df.head())"
      ],
      "cell_type": "code",
      "metadata": {
        "colab": {
          "base_uri": "https://localhost:8080/",
          "height": 143
        },
        "id": "zm0q1m0a_P_J",
        "outputId": "2a58be85-31dc-43e5-c1e6-eccaedbe2a4c"
      },
      "execution_count": null,
      "outputs": [
        {
          "output_type": "display_data",
          "data": {
            "text/plain": [
              "<IPython.core.display.HTML object>"
            ],
            "text/html": [
              "\n",
              "            <style>\n",
              "                .geemap-dark {\n",
              "                    --jp-widgets-color: white;\n",
              "                    --jp-widgets-label-color: white;\n",
              "                    --jp-ui-font-color1: white;\n",
              "                    --jp-layout-color2: #454545;\n",
              "                    background-color: #383838;\n",
              "                }\n",
              "\n",
              "                .geemap-dark .jupyter-button {\n",
              "                    --jp-layout-color3: #383838;\n",
              "                }\n",
              "\n",
              "                .geemap-colab {\n",
              "                    background-color: var(--colab-primary-surface-color, white);\n",
              "                }\n",
              "\n",
              "                .geemap-colab .jupyter-button {\n",
              "                    --jp-layout-color3: var(--colab-primary-surface-color, white);\n",
              "                }\n",
              "            </style>\n",
              "            "
            ]
          },
          "metadata": {}
        },
        {
          "output_type": "stream",
          "name": "stdout",
          "text": [
            "   Region  Latitude  Longitude        Date    NDVI\n",
            "0  Africa -2.726313   21.40107  2000-02-18  8042.0\n",
            "1  Africa -2.726313   21.40107  2000-03-05  7673.0\n",
            "2  Africa -2.726313   21.40107  2000-03-21  8368.0\n",
            "3  Africa -2.726313   21.40107  2000-04-06  8532.0\n",
            "4  Africa -2.726313   21.40107  2000-04-22  8110.0\n"
          ]
        }
      ]
    },
    {
      "cell_type": "markdown",
      "source": [
        "# Save the file to Gdrive"
      ],
      "metadata": {
        "id": "UbGbPhZ7rXX3"
      }
    },
    {
      "source": [
        "\n",
        "# Save the DataFrame to a CSV file\n",
        "ndvi_df.to_csv('ndvi_time_series.csv', index=False)\n",
        "\n",
        "# # Mount Google Drive (If you have not done this)\n",
        "# from google.colab import drive\n",
        "# drive.mount('/content/drive')\n",
        "\n",
        "# Copy the CSV file to your Google Drive\n",
        "!cp ndvi_time_series.csv /content/drive/MyDrive/\n",
        "\n"
      ],
      "cell_type": "code",
      "metadata": {
        "id": "jpJRG87KrYLF"
      },
      "execution_count": null,
      "outputs": []
    },
    {
      "cell_type": "markdown",
      "source": [
        "# Reading the NDVI File"
      ],
      "metadata": {
        "id": "pjjwRuwqZ5VJ"
      }
    },
    {
      "source": [
        "# Reading the KNDVI File\n",
        "\n",
        "# Mount Google Drive\n",
        "\n",
        "# Replace with the actual path to your file in Google Drive\n",
        "file_path = '/content/drive/My Drive/ndvi_time_series.csv'\n",
        "\n",
        "# Read the CSV file\n",
        "df = pd.read_csv(file_path)\n",
        "print(df.head())  # Print the first few rows of the DataFrame"
      ],
      "cell_type": "code",
      "metadata": {
        "colab": {
          "base_uri": "https://localhost:8080/",
          "height": 124
        },
        "id": "lQQ3syCEvknS",
        "outputId": "2c966c01-c17c-44b4-b7c9-476c2209722b"
      },
      "execution_count": 99,
      "outputs": [
        {
          "output_type": "display_data",
          "data": {
            "text/plain": [
              "<IPython.core.display.HTML object>"
            ],
            "text/html": [
              "\n",
              "            <style>\n",
              "                .geemap-dark {\n",
              "                    --jp-widgets-color: white;\n",
              "                    --jp-widgets-label-color: white;\n",
              "                    --jp-ui-font-color1: white;\n",
              "                    --jp-layout-color2: #454545;\n",
              "                    background-color: #383838;\n",
              "                }\n",
              "\n",
              "                .geemap-dark .jupyter-button {\n",
              "                    --jp-layout-color3: #383838;\n",
              "                }\n",
              "\n",
              "                .geemap-colab {\n",
              "                    background-color: var(--colab-primary-surface-color, white);\n",
              "                }\n",
              "\n",
              "                .geemap-colab .jupyter-button {\n",
              "                    --jp-layout-color3: var(--colab-primary-surface-color, white);\n",
              "                }\n",
              "            </style>\n",
              "            "
            ]
          },
          "metadata": {}
        },
        {
          "output_type": "stream",
          "name": "stdout",
          "text": [
            "   Region  Latitude  Longitude        Date    NDVI\n",
            "0  Africa -2.726313   21.40107  2000-02-18  8042.0\n",
            "1  Africa -2.726313   21.40107  2000-03-05  7673.0\n",
            "2  Africa -2.726313   21.40107  2000-03-21  8368.0\n",
            "3  Africa -2.726313   21.40107  2000-04-06  8532.0\n",
            "4  Africa -2.726313   21.40107  2000-04-22  8110.0\n"
          ]
        }
      ]
    },
    {
      "cell_type": "markdown",
      "source": [
        "Now we have the coordinates coresponding to the IFL_2000 dataset for the entire globe."
      ],
      "metadata": {
        "id": "vjirc9rcIJvq"
      }
    }
  ]
}