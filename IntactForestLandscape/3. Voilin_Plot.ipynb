{
  "nbformat": 4,
  "nbformat_minor": 0,
  "metadata": {
    "colab": {
      "provenance": [],
      "machine_shape": "hm",
      "gpuType": "T4"
    },
    "kernelspec": {
      "name": "python3",
      "display_name": "Python 3"
    },
    "language_info": {
      "name": "python"
    },
    "accelerator": "GPU"
  },
  "cells": [
    {
      "cell_type": "markdown",
      "source": [
        "\n",
        "\n",
        "This code is part of the kNDVI/CI assessment. It was used to generate the violin plots of the kNDVI data.  \n",
        "\n",
        "2024 @author: Pius N.Nwachukwu\n"
      ],
      "metadata": {
        "id": "HqhSZhB6Di_8"
      }
    },
    {
      "cell_type": "code",
      "execution_count": 1,
      "metadata": {
        "id": "-dGfh9XWbkOg"
      },
      "outputs": [],
      "source": [
        "import os\n",
        "import shutil\n",
        "import ee\n",
        "import geemap\n",
        "import pandas as pd\n",
        "from google.colab import drive\n",
        "import seaborn as sns\n",
        "import matplotlib.pyplot as plt"
      ]
    },
    {
      "cell_type": "code",
      "execution_count": 2,
      "metadata": {
        "colab": {
          "base_uri": "https://localhost:8080/",
          "height": 35
        },
        "id": "nQOHorASqv1V",
        "outputId": "c720a6d0-9ddb-4560-bcbf-dd1efdfa0467"
      },
      "outputs": [
        {
          "output_type": "display_data",
          "data": {
            "text/plain": [
              "<IPython.core.display.HTML object>"
            ],
            "text/html": [
              "\n",
              "            <style>\n",
              "                .geemap-dark {\n",
              "                    --jp-widgets-color: white;\n",
              "                    --jp-widgets-label-color: white;\n",
              "                    --jp-ui-font-color1: white;\n",
              "                    --jp-layout-color2: #454545;\n",
              "                    background-color: #383838;\n",
              "                }\n",
              "\n",
              "                .geemap-dark .jupyter-button {\n",
              "                    --jp-layout-color3: #383838;\n",
              "                }\n",
              "\n",
              "                .geemap-colab {\n",
              "                    background-color: var(--colab-primary-surface-color, white);\n",
              "                }\n",
              "\n",
              "                .geemap-colab .jupyter-button {\n",
              "                    --jp-layout-color3: var(--colab-primary-surface-color, white);\n",
              "                }\n",
              "            </style>\n",
              "            "
            ]
          },
          "metadata": {}
        },
        {
          "output_type": "stream",
          "name": "stdout",
          "text": [
            "Mounted at /content/drive\n"
          ]
        }
      ],
      "source": [
        "# Authenticate and initialize the Earth Engine module.\n",
        "ee.Authenticate()\n",
        "ee.Initialize(project='ee-')\n",
        "\n",
        "# Mount Google Drive\n",
        "from google.colab import drive\n",
        "drive.mount('/content/drive')"
      ]
    },
    {
      "cell_type": "code",
      "execution_count": 3,
      "metadata": {
        "id": "BQ-hwGjp4Euk",
        "colab": {
          "base_uri": "https://localhost:8080/",
          "height": 124
        },
        "outputId": "bd307809-9c89-4448-aedb-5a7bf9219882"
      },
      "outputs": [
        {
          "output_type": "display_data",
          "data": {
            "text/plain": [
              "<IPython.core.display.HTML object>"
            ],
            "text/html": [
              "\n",
              "            <style>\n",
              "                .geemap-dark {\n",
              "                    --jp-widgets-color: white;\n",
              "                    --jp-widgets-label-color: white;\n",
              "                    --jp-ui-font-color1: white;\n",
              "                    --jp-layout-color2: #454545;\n",
              "                    background-color: #383838;\n",
              "                }\n",
              "\n",
              "                .geemap-dark .jupyter-button {\n",
              "                    --jp-layout-color3: #383838;\n",
              "                }\n",
              "\n",
              "                .geemap-colab {\n",
              "                    background-color: var(--colab-primary-surface-color, white);\n",
              "                }\n",
              "\n",
              "                .geemap-colab .jupyter-button {\n",
              "                    --jp-layout-color3: var(--colab-primary-surface-color, white);\n",
              "                }\n",
              "            </style>\n",
              "            "
            ]
          },
          "metadata": {}
        },
        {
          "output_type": "stream",
          "name": "stdout",
          "text": [
            "        ROI        date  percentage_valid  latitude  longitude  NDVI\n",
            "0  S_Americ  2000-02-01          29.70645 -6.609515 -58.598977  1355\n",
            "1  S_Americ  2000-02-01          29.70645 -6.609515 -58.508443  4857\n",
            "2  S_Americ  2000-02-01          29.70645 -6.654481 -58.694867  3963\n",
            "3  S_Americ  2000-02-01          29.70645 -6.654481 -58.649596  1773\n",
            "4  S_Americ  2000-02-01          29.70645 -6.654481 -58.604325  2665\n"
          ]
        }
      ],
      "source": [
        "# Calling up the Saved Time Series NDVI Values\n",
        "csv_file_path = '/content/drive/My Drive/FoRes/ndvi_pixelz_data.csv' # Get the NDVIs in 5000 SR Pixels\n",
        "\n",
        "\n",
        "# Read the CSV file into a pandas DataFrame\n",
        "ndvi_df = pd.read_csv(csv_file_path)\n",
        "print(ndvi_df.head())"
      ]
    },
    {
      "cell_type": "code",
      "execution_count": 4,
      "metadata": {
        "id": "hFwlS7Iey-Z-",
        "colab": {
          "base_uri": "https://localhost:8080/",
          "height": 17
        },
        "outputId": "b67b3530-5c27-49d3-bfab-b473e02b46de"
      },
      "outputs": [
        {
          "output_type": "display_data",
          "data": {
            "text/plain": [
              "<IPython.core.display.HTML object>"
            ],
            "text/html": [
              "\n",
              "            <style>\n",
              "                .geemap-dark {\n",
              "                    --jp-widgets-color: white;\n",
              "                    --jp-widgets-label-color: white;\n",
              "                    --jp-ui-font-color1: white;\n",
              "                    --jp-layout-color2: #454545;\n",
              "                    background-color: #383838;\n",
              "                }\n",
              "\n",
              "                .geemap-dark .jupyter-button {\n",
              "                    --jp-layout-color3: #383838;\n",
              "                }\n",
              "\n",
              "                .geemap-colab {\n",
              "                    background-color: var(--colab-primary-surface-color, white);\n",
              "                }\n",
              "\n",
              "                .geemap-colab .jupyter-button {\n",
              "                    --jp-layout-color3: var(--colab-primary-surface-color, white);\n",
              "                }\n",
              "            </style>\n",
              "            "
            ]
          },
          "metadata": {}
        }
      ],
      "source": [
        "# Set Index\n",
        "ndvi_df.set_index('date', inplace=True)"
      ]
    },
    {
      "cell_type": "code",
      "execution_count": 5,
      "metadata": {
        "id": "rsA9II1Lt8iC",
        "colab": {
          "base_uri": "https://localhost:8080/",
          "height": 17
        },
        "outputId": "7f1ac5e7-6fcf-40e9-c9d3-88bdb6dab9e1"
      },
      "outputs": [
        {
          "output_type": "display_data",
          "data": {
            "text/plain": [
              "<IPython.core.display.HTML object>"
            ],
            "text/html": [
              "\n",
              "            <style>\n",
              "                .geemap-dark {\n",
              "                    --jp-widgets-color: white;\n",
              "                    --jp-widgets-label-color: white;\n",
              "                    --jp-ui-font-color1: white;\n",
              "                    --jp-layout-color2: #454545;\n",
              "                    background-color: #383838;\n",
              "                }\n",
              "\n",
              "                .geemap-dark .jupyter-button {\n",
              "                    --jp-layout-color3: #383838;\n",
              "                }\n",
              "\n",
              "                .geemap-colab {\n",
              "                    background-color: var(--colab-primary-surface-color, white);\n",
              "                }\n",
              "\n",
              "                .geemap-colab .jupyter-button {\n",
              "                    --jp-layout-color3: var(--colab-primary-surface-color, white);\n",
              "                }\n",
              "            </style>\n",
              "            "
            ]
          },
          "metadata": {}
        }
      ],
      "source": [
        "# Converting the NDVI to Reflectance\n",
        "ndvi_df[\"NDVI_2\"] = ndvi_df[\"NDVI\"] / 10000"
      ]
    },
    {
      "cell_type": "code",
      "execution_count": 6,
      "metadata": {
        "id": "MQ7vL2-gqxdG",
        "colab": {
          "base_uri": "https://localhost:8080/",
          "height": 17
        },
        "outputId": "d9077ea8-d7c0-4a76-ea2d-c9edd66104f9"
      },
      "outputs": [
        {
          "output_type": "display_data",
          "data": {
            "text/plain": [
              "<IPython.core.display.HTML object>"
            ],
            "text/html": [
              "\n",
              "            <style>\n",
              "                .geemap-dark {\n",
              "                    --jp-widgets-color: white;\n",
              "                    --jp-widgets-label-color: white;\n",
              "                    --jp-ui-font-color1: white;\n",
              "                    --jp-layout-color2: #454545;\n",
              "                    background-color: #383838;\n",
              "                }\n",
              "\n",
              "                .geemap-dark .jupyter-button {\n",
              "                    --jp-layout-color3: #383838;\n",
              "                }\n",
              "\n",
              "                .geemap-colab {\n",
              "                    background-color: var(--colab-primary-surface-color, white);\n",
              "                }\n",
              "\n",
              "                .geemap-colab .jupyter-button {\n",
              "                    --jp-layout-color3: var(--colab-primary-surface-color, white);\n",
              "                }\n",
              "            </style>\n",
              "            "
            ]
          },
          "metadata": {}
        }
      ],
      "source": [
        "# # Calculate KNDVI\n",
        "ndvi_df['KNDVI'] = (ndvi_df['NDVI_2'] + 1) / 2\n",
        "\n",
        "# print(ndvi_df)"
      ]
    },
    {
      "cell_type": "code",
      "source": [
        "# Check the first few rows after processing\n",
        "print(ndvi_df.head())\n",
        "\n",
        "# Summary statistics for KNDVI values\n",
        "print(ndvi_df['KNDVI'].describe())\n",
        "\n",
        "# Check if any missing values remain\n",
        "print(ndvi_df.isnull().sum())\n"
      ],
      "metadata": {
        "id": "p_N-9EnzC4QP",
        "colab": {
          "base_uri": "https://localhost:8080/",
          "height": 589
        },
        "outputId": "6d077514-4ae9-4738-d126-b73db5baa46d"
      },
      "execution_count": 7,
      "outputs": [
        {
          "output_type": "display_data",
          "data": {
            "text/plain": [
              "<IPython.core.display.HTML object>"
            ],
            "text/html": [
              "\n",
              "            <style>\n",
              "                .geemap-dark {\n",
              "                    --jp-widgets-color: white;\n",
              "                    --jp-widgets-label-color: white;\n",
              "                    --jp-ui-font-color1: white;\n",
              "                    --jp-layout-color2: #454545;\n",
              "                    background-color: #383838;\n",
              "                }\n",
              "\n",
              "                .geemap-dark .jupyter-button {\n",
              "                    --jp-layout-color3: #383838;\n",
              "                }\n",
              "\n",
              "                .geemap-colab {\n",
              "                    background-color: var(--colab-primary-surface-color, white);\n",
              "                }\n",
              "\n",
              "                .geemap-colab .jupyter-button {\n",
              "                    --jp-layout-color3: var(--colab-primary-surface-color, white);\n",
              "                }\n",
              "            </style>\n",
              "            "
            ]
          },
          "metadata": {}
        },
        {
          "output_type": "stream",
          "name": "stdout",
          "text": [
            "                 ROI  percentage_valid  latitude  longitude  NDVI  NDVI_2  \\\n",
            "date                                                                        \n",
            "2000-02-01  S_Americ          29.70645 -6.609515 -58.598977  1355  0.1355   \n",
            "2000-02-01  S_Americ          29.70645 -6.609515 -58.508443  4857  0.4857   \n",
            "2000-02-01  S_Americ          29.70645 -6.654481 -58.694867  3963  0.3963   \n",
            "2000-02-01  S_Americ          29.70645 -6.654481 -58.649596  1773  0.1773   \n",
            "2000-02-01  S_Americ          29.70645 -6.654481 -58.604325  2665  0.2665   \n",
            "\n",
            "              KNDVI  \n",
            "date                 \n",
            "2000-02-01  0.56775  \n",
            "2000-02-01  0.74285  \n",
            "2000-02-01  0.69815  \n",
            "2000-02-01  0.58865  \n",
            "2000-02-01  0.63325  \n",
            "count    1.857242e+06\n",
            "mean     8.627530e-01\n",
            "std      9.911330e-02\n",
            "min      4.580000e-01\n",
            "25%      8.454500e-01\n",
            "50%      9.052000e-01\n",
            "75%      9.229000e-01\n",
            "max      9.873500e-01\n",
            "Name: KNDVI, dtype: float64\n",
            "ROI                 0\n",
            "percentage_valid    0\n",
            "latitude            0\n",
            "longitude           0\n",
            "NDVI                0\n",
            "NDVI_2              0\n",
            "KNDVI               0\n",
            "dtype: int64\n"
          ]
        }
      ]
    },
    {
      "cell_type": "code",
      "execution_count": 8,
      "metadata": {
        "id": "aHDciD-vO1Uk",
        "colab": {
          "base_uri": "https://localhost:8080/",
          "height": 35
        },
        "outputId": "ce1fdb19-042c-4795-ec2f-6794be33f5d4"
      },
      "outputs": [
        {
          "output_type": "display_data",
          "data": {
            "text/plain": [
              "<IPython.core.display.HTML object>"
            ],
            "text/html": [
              "\n",
              "            <style>\n",
              "                .geemap-dark {\n",
              "                    --jp-widgets-color: white;\n",
              "                    --jp-widgets-label-color: white;\n",
              "                    --jp-ui-font-color1: white;\n",
              "                    --jp-layout-color2: #454545;\n",
              "                    background-color: #383838;\n",
              "                }\n",
              "\n",
              "                .geemap-dark .jupyter-button {\n",
              "                    --jp-layout-color3: #383838;\n",
              "                }\n",
              "\n",
              "                .geemap-colab {\n",
              "                    background-color: var(--colab-primary-surface-color, white);\n",
              "                }\n",
              "\n",
              "                .geemap-colab .jupyter-button {\n",
              "                    --jp-layout-color3: var(--colab-primary-surface-color, white);\n",
              "                }\n",
              "            </style>\n",
              "            "
            ]
          },
          "metadata": {}
        },
        {
          "output_type": "stream",
          "name": "stdout",
          "text": [
            "['S_Americ' 'N_Americ' 'Afric' 'Europ' 'Asia' 'Aust_Ocean']\n"
          ]
        }
      ],
      "source": [
        "# ndvi_df['ROI']\n",
        "\n",
        "# Print all the names of the ROIs\n",
        "print(ndvi_df['ROI'].unique())"
      ]
    },
    {
      "cell_type": "code",
      "execution_count": 9,
      "metadata": {
        "id": "OHe3BRWQ-Y9S",
        "colab": {
          "base_uri": "https://localhost:8080/",
          "height": 17
        },
        "outputId": "b111deb4-a924-457f-9130-fe7a6561f2b7"
      },
      "outputs": [
        {
          "output_type": "display_data",
          "data": {
            "text/plain": [
              "<IPython.core.display.HTML object>"
            ],
            "text/html": [
              "\n",
              "            <style>\n",
              "                .geemap-dark {\n",
              "                    --jp-widgets-color: white;\n",
              "                    --jp-widgets-label-color: white;\n",
              "                    --jp-ui-font-color1: white;\n",
              "                    --jp-layout-color2: #454545;\n",
              "                    background-color: #383838;\n",
              "                }\n",
              "\n",
              "                .geemap-dark .jupyter-button {\n",
              "                    --jp-layout-color3: #383838;\n",
              "                }\n",
              "\n",
              "                .geemap-colab {\n",
              "                    background-color: var(--colab-primary-surface-color, white);\n",
              "                }\n",
              "\n",
              "                .geemap-colab .jupyter-button {\n",
              "                    --jp-layout-color3: var(--colab-primary-surface-color, white);\n",
              "                }\n",
              "            </style>\n",
              "            "
            ]
          },
          "metadata": {}
        }
      ],
      "source": [
        "# Filter the DataFrame to get rows where the 'Region' column corresponds to a continent eg 'Africa'\n",
        "af = ndvi_df[ndvi_df[\"ROI\"] == \"Afric\"]\n",
        "asia = ndvi_df[ndvi_df[\"ROI\"] == \"Asia\"]\n",
        "eu = ndvi_df[ndvi_df[\"ROI\"] == \"Europ\"]\n",
        "na = ndvi_df[ndvi_df[\"ROI\"] == \"N_Americ\"]\n",
        "sa = ndvi_df[ndvi_df[\"ROI\"] == \"S_Americ\"]\n",
        "oc = ndvi_df[ndvi_df[\"ROI\"] == \"Aust_Ocean\"]\n",
        "# print(eu)"
      ]
    },
    {
      "cell_type": "code",
      "execution_count": 11,
      "metadata": {
        "id": "DqCIR1B-koG6",
        "colab": {
          "base_uri": "https://localhost:8080/",
          "height": 285
        },
        "outputId": "503f8af4-bad6-4181-8bd4-1bccadd6d584"
      },
      "outputs": [
        {
          "output_type": "display_data",
          "data": {
            "text/plain": [
              "<IPython.core.display.HTML object>"
            ],
            "text/html": [
              "\n",
              "            <style>\n",
              "                .geemap-dark {\n",
              "                    --jp-widgets-color: white;\n",
              "                    --jp-widgets-label-color: white;\n",
              "                    --jp-ui-font-color1: white;\n",
              "                    --jp-layout-color2: #454545;\n",
              "                    background-color: #383838;\n",
              "                }\n",
              "\n",
              "                .geemap-dark .jupyter-button {\n",
              "                    --jp-layout-color3: #383838;\n",
              "                }\n",
              "\n",
              "                .geemap-colab {\n",
              "                    background-color: var(--colab-primary-surface-color, white);\n",
              "                }\n",
              "\n",
              "                .geemap-colab .jupyter-button {\n",
              "                    --jp-layout-color3: var(--colab-primary-surface-color, white);\n",
              "                }\n",
              "            </style>\n",
              "            "
            ]
          },
          "metadata": {}
        },
        {
          "output_type": "stream",
          "name": "stdout",
          "text": [
            "              ROI  percentage_valid   latitude  longitude  NDVI  NDVI_2  \\\n",
            "date                                                                      \n",
            "2000-02-01  Europ          0.113841  44.112167  39.360741   603  0.0603   \n",
            "2000-02-01  Europ          0.113841  44.112167  39.423370  1214  0.1214   \n",
            "2000-02-01  Europ          0.113841  44.067201  39.393410  1262  0.1262   \n",
            "2000-02-01  Europ          0.113841  44.067201  39.455991  1628  0.1628   \n",
            "2000-02-01  Europ          0.113841  44.067201  39.518572  1267  0.1267   \n",
            "\n",
            "              KNDVI  \n",
            "date                 \n",
            "2000-02-01  0.53015  \n",
            "2000-02-01  0.56070  \n",
            "2000-02-01  0.56310  \n",
            "2000-02-01  0.58140  \n",
            "2000-02-01  0.56335  \n"
          ]
        }
      ],
      "source": [
        "# # Define the ROI name you want to filter\n",
        "# selected_roi = 'Europ'  # Replace 'Europ' with desired ROI\n",
        "\n",
        "# Filter the DataFrame for pixels within the selected ROI\n",
        "df_filtered = ndvi_df[ndvi_df['ROI'] == \"Europ\"]\n",
        "\n",
        "# Display the first few rows of the filtered DataFrame\n",
        "print(df_filtered.head())\n",
        "\n",
        "\n"
      ]
    },
    {
      "cell_type": "code",
      "execution_count": 12,
      "metadata": {
        "id": "OLL2FIZ6hUwI",
        "colab": {
          "base_uri": "https://localhost:8080/",
          "height": 251
        },
        "outputId": "cd68da7f-a0b7-4bee-9864-4b906e9213de"
      },
      "outputs": [
        {
          "output_type": "display_data",
          "data": {
            "text/plain": [
              "<IPython.core.display.HTML object>"
            ],
            "text/html": [
              "\n",
              "            <style>\n",
              "                .geemap-dark {\n",
              "                    --jp-widgets-color: white;\n",
              "                    --jp-widgets-label-color: white;\n",
              "                    --jp-ui-font-color1: white;\n",
              "                    --jp-layout-color2: #454545;\n",
              "                    background-color: #383838;\n",
              "                }\n",
              "\n",
              "                .geemap-dark .jupyter-button {\n",
              "                    --jp-layout-color3: #383838;\n",
              "                }\n",
              "\n",
              "                .geemap-colab {\n",
              "                    background-color: var(--colab-primary-surface-color, white);\n",
              "                }\n",
              "\n",
              "                .geemap-colab .jupyter-button {\n",
              "                    --jp-layout-color3: var(--colab-primary-surface-color, white);\n",
              "                }\n",
              "            </style>\n",
              "            "
            ]
          },
          "metadata": {}
        },
        {
          "output_type": "stream",
          "name": "stderr",
          "text": [
            "<ipython-input-12-bf2311a7a670>:3: SettingWithCopyWarning: \n",
            "A value is trying to be set on a copy of a slice from a DataFrame.\n",
            "Try using .loc[row_indexer,col_indexer] = value instead\n",
            "\n",
            "See the caveats in the documentation: https://pandas.pydata.org/pandas-docs/stable/user_guide/indexing.html#returning-a-view-versus-a-copy\n",
            "  df_filtered['latitude'] = df_filtered_copy['latitude'].round(2)\n",
            "<ipython-input-12-bf2311a7a670>:4: SettingWithCopyWarning: \n",
            "A value is trying to be set on a copy of a slice from a DataFrame.\n",
            "Try using .loc[row_indexer,col_indexer] = value instead\n",
            "\n",
            "See the caveats in the documentation: https://pandas.pydata.org/pandas-docs/stable/user_guide/indexing.html#returning-a-view-versus-a-copy\n",
            "  df_filtered['longitude'] = df_filtered_copy['longitude'].round(2)\n"
          ]
        }
      ],
      "source": [
        "# Round the lats and lons\n",
        "df_filtered_copy = df_filtered.copy()\n",
        "df_filtered['latitude'] = df_filtered_copy['latitude'].round(2)\n",
        "df_filtered['longitude'] = df_filtered_copy['longitude'].round(2)\n",
        "# df_filtered"
      ]
    },
    {
      "cell_type": "code",
      "execution_count": 21,
      "metadata": {
        "id": "7Q3DbobnqE8h",
        "colab": {
          "base_uri": "https://localhost:8080/",
          "height": 88
        },
        "outputId": "466439e6-2e05-4494-d17b-0d35534e1ad7"
      },
      "outputs": [
        {
          "output_type": "display_data",
          "data": {
            "text/plain": [
              "<IPython.core.display.HTML object>"
            ],
            "text/html": [
              "\n",
              "            <style>\n",
              "                .geemap-dark {\n",
              "                    --jp-widgets-color: white;\n",
              "                    --jp-widgets-label-color: white;\n",
              "                    --jp-ui-font-color1: white;\n",
              "                    --jp-layout-color2: #454545;\n",
              "                    background-color: #383838;\n",
              "                }\n",
              "\n",
              "                .geemap-dark .jupyter-button {\n",
              "                    --jp-layout-color3: #383838;\n",
              "                }\n",
              "\n",
              "                .geemap-colab {\n",
              "                    background-color: var(--colab-primary-surface-color, white);\n",
              "                }\n",
              "\n",
              "                .geemap-colab .jupyter-button {\n",
              "                    --jp-layout-color3: var(--colab-primary-surface-color, white);\n",
              "                }\n",
              "            </style>\n",
              "            "
            ]
          },
          "metadata": {}
        },
        {
          "output_type": "stream",
          "name": "stdout",
          "text": [
            "Index(['ROI', 'percentage_valid', 'latitude', 'longitude', 'NDVI', 'NDVI_2',\n",
            "       'KNDVI'],\n",
            "      dtype='object')\n",
            "Number of unique pixels: 1277\n"
          ]
        }
      ],
      "source": [
        "# import pandas as pd\n",
        "\n",
        "# # Check the structure of the DataFrame to identify relevant columns\n",
        "# print(df_filtered.columns)\n",
        "\n",
        "# # Assuming the columns 'latitude', 'longitude', and 'NDVI' are present\n",
        "# # Group the data by latitude and longitude to count the unique pixels\n",
        "# unique_pixels = df_filtered.groupby(['latitude', 'longitude']).size()\n",
        "\n",
        "# # Print the number of unique pixels\n",
        "# print(f\"Number of unique pixels: {len(unique_pixels)}\")\n",
        "\n",
        "# # If you want to see a sample of the pixel data\n",
        "# # print(unique_pixels.head())\n"
      ]
    },
    {
      "cell_type": "code",
      "execution_count": 13,
      "metadata": {
        "id": "Mst9cxF2qE8k",
        "colab": {
          "base_uri": "https://localhost:8080/",
          "height": 35
        },
        "outputId": "c1cfed81-aaa5-4735-de0f-8041efc92620"
      },
      "outputs": [
        {
          "output_type": "display_data",
          "data": {
            "text/plain": [
              "<IPython.core.display.HTML object>"
            ],
            "text/html": [
              "\n",
              "            <style>\n",
              "                .geemap-dark {\n",
              "                    --jp-widgets-color: white;\n",
              "                    --jp-widgets-label-color: white;\n",
              "                    --jp-ui-font-color1: white;\n",
              "                    --jp-layout-color2: #454545;\n",
              "                    background-color: #383838;\n",
              "                }\n",
              "\n",
              "                .geemap-dark .jupyter-button {\n",
              "                    --jp-layout-color3: #383838;\n",
              "                }\n",
              "\n",
              "                .geemap-colab {\n",
              "                    background-color: var(--colab-primary-surface-color, white);\n",
              "                }\n",
              "\n",
              "                .geemap-colab .jupyter-button {\n",
              "                    --jp-layout-color3: var(--colab-primary-surface-color, white);\n",
              "                }\n",
              "            </style>\n",
              "            "
            ]
          },
          "metadata": {}
        },
        {
          "output_type": "stream",
          "name": "stdout",
          "text": [
            "Percentage of pixels with valid NDVI data: 100.00%\n"
          ]
        }
      ],
      "source": [
        "import pandas as pd\n",
        "\n",
        "\n",
        "# Define the range for valid KNDVI values\n",
        "valid_ndvi_min = -1\n",
        "valid_ndvi_max = 1\n",
        "\n",
        "# Filter the dataset for valid NDVI values\n",
        "valid_ndvi_data = df_filtered[(df_filtered['NDVI_2'] >= valid_ndvi_min) & (df_filtered['NDVI_2'] <= valid_ndvi_max)]\n",
        "\n",
        "# Group by latitude and longitude to identify unique pixels with valid data\n",
        "valid_pixels = valid_ndvi_data.groupby(['latitude', 'longitude']).size()\n",
        "\n",
        "# Calculate the percentage of valid pixels\n",
        "percentage_valid_pixels = (len(valid_pixels) / 1277) * 100  # Assuming 5460 is the total number of unique pixels\n",
        "\n",
        "print(f\"Percentage of pixels with valid NDVI data: {percentage_valid_pixels:.2f}%\")\n"
      ]
    },
    {
      "cell_type": "code",
      "execution_count": 15,
      "metadata": {
        "id": "8NYhWDvSqE8m",
        "colab": {
          "base_uri": "https://localhost:8080/",
          "height": 17
        },
        "outputId": "78dcc707-7836-4181-e1bd-017e509d265c"
      },
      "outputs": [
        {
          "output_type": "display_data",
          "data": {
            "text/plain": [
              "<IPython.core.display.HTML object>"
            ],
            "text/html": [
              "\n",
              "            <style>\n",
              "                .geemap-dark {\n",
              "                    --jp-widgets-color: white;\n",
              "                    --jp-widgets-label-color: white;\n",
              "                    --jp-ui-font-color1: white;\n",
              "                    --jp-layout-color2: #454545;\n",
              "                    background-color: #383838;\n",
              "                }\n",
              "\n",
              "                .geemap-dark .jupyter-button {\n",
              "                    --jp-layout-color3: #383838;\n",
              "                }\n",
              "\n",
              "                .geemap-colab {\n",
              "                    background-color: var(--colab-primary-surface-color, white);\n",
              "                }\n",
              "\n",
              "                .geemap-colab .jupyter-button {\n",
              "                    --jp-layout-color3: var(--colab-primary-surface-color, white);\n",
              "                }\n",
              "            </style>\n",
              "            "
            ]
          },
          "metadata": {}
        }
      ],
      "source": [
        "# import pandas as pd\n",
        "\n",
        "# # Check the structure of the DataFrame to ensure it's correct\n",
        "# print(df_filtered.head())\n",
        "\n",
        "# # Verify the length of the NDVI time series for a few pixels\n",
        "# print(f\"Number of columns (including metadata): {df_filtered.shape[1]}\")\n",
        "# print(f\"Expected number of NDVI points per pixel: {df_filtered.shape[1] - 3}\")\n",
        "\n",
        "# # Let's print out the time series length for the first pixel\n",
        "# first_pixel_series = df_filtered.iloc[0, 3:]\n",
        "# print(f\"Length of the first pixel time series: {len(first_pixel_series)}\")\n"
      ]
    },
    {
      "cell_type": "code",
      "execution_count": 14,
      "metadata": {
        "id": "e_VZHzM9Xd6X",
        "colab": {
          "base_uri": "https://localhost:8080/",
          "height": 767
        },
        "outputId": "dcbc7179-35cf-4418-f4a8-cac217d07182"
      },
      "outputs": [
        {
          "output_type": "display_data",
          "data": {
            "text/plain": [
              "<IPython.core.display.HTML object>"
            ],
            "text/html": [
              "\n",
              "            <style>\n",
              "                .geemap-dark {\n",
              "                    --jp-widgets-color: white;\n",
              "                    --jp-widgets-label-color: white;\n",
              "                    --jp-ui-font-color1: white;\n",
              "                    --jp-layout-color2: #454545;\n",
              "                    background-color: #383838;\n",
              "                }\n",
              "\n",
              "                .geemap-dark .jupyter-button {\n",
              "                    --jp-layout-color3: #383838;\n",
              "                }\n",
              "\n",
              "                .geemap-colab {\n",
              "                    background-color: var(--colab-primary-surface-color, white);\n",
              "                }\n",
              "\n",
              "                .geemap-colab .jupyter-button {\n",
              "                    --jp-layout-color3: var(--colab-primary-surface-color, white);\n",
              "                }\n",
              "            </style>\n",
              "            "
            ]
          },
          "metadata": {}
        },
        {
          "output_type": "stream",
          "name": "stdout",
          "text": [
            "date                2000-02-01  2000-03-01  2000-04-01  2000-05-01  \\\n",
            "latitude longitude                                                   \n",
            "43.06    41.39             NaN         NaN         NaN         NaN   \n",
            "         41.45             NaN         NaN         NaN         NaN   \n",
            "         41.51             NaN         NaN         NaN         NaN   \n",
            "43.08    41.40          0.5442     0.54725      0.8362     0.88065   \n",
            "         41.46          0.5380     0.58395      0.7829     0.87675   \n",
            "\n",
            "date                2000-06-01  2000-07-01  2000-08-01  2000-09-01  \\\n",
            "latitude longitude                                                   \n",
            "43.06    41.39             NaN         NaN         NaN         NaN   \n",
            "         41.45             NaN         NaN         NaN         NaN   \n",
            "         41.51             NaN         NaN         NaN         NaN   \n",
            "43.08    41.40         0.92875      0.9407      0.9355     0.93260   \n",
            "         41.46         0.92055      0.9401      0.9370     0.93585   \n",
            "\n",
            "date                2000-10-01  2000-11-01  ...  2023-07-01  2023-08-01  \\\n",
            "latitude longitude                          ...                           \n",
            "43.06    41.39             NaN      0.7884  ...         NaN         NaN   \n",
            "         41.45             NaN      0.7872  ...         NaN         NaN   \n",
            "         41.51             NaN      0.7836  ...         NaN         NaN   \n",
            "43.08    41.40         0.87880         NaN  ...     0.95845     0.94720   \n",
            "         41.46         0.87215         NaN  ...     0.95695     0.94905   \n",
            "\n",
            "date                2023-09-01  2023-10-01  2023-11-01  2023-12-01  \\\n",
            "latitude longitude                                                   \n",
            "43.06    41.39             NaN         NaN     0.82855         NaN   \n",
            "         41.45             NaN         NaN     0.83470         NaN   \n",
            "         41.51             NaN         NaN     0.82350         NaN   \n",
            "43.08    41.40          0.9360     0.88145         NaN         NaN   \n",
            "         41.46          0.9372     0.87810         NaN         NaN   \n",
            "\n",
            "date                2024-01-01  2024-02-01  2024-03-01  2024-04-01  \n",
            "latitude longitude                                                  \n",
            "43.06    41.39         0.73960         NaN         NaN         NaN  \n",
            "         41.45         0.74995         NaN         NaN         NaN  \n",
            "         41.51         0.70790         NaN         NaN         NaN  \n",
            "43.08    41.40             NaN     0.66175     0.68860     0.83295  \n",
            "         41.46             NaN     0.64945     0.67295     0.79335  \n",
            "\n",
            "[5 rows x 291 columns]\n",
            "Number of time points: 291\n"
          ]
        }
      ],
      "source": [
        "import pandas as pd\n",
        "\n",
        "# Assuming ndvi_data is already loaded as a DataFrame\n",
        "\n",
        "# Reset index to ensure 'Date' is only in columns\n",
        "df_filtered = df_filtered.reset_index()\n",
        "\n",
        "# Pivot the data to create a time series for each pixel\n",
        "ndvi_pivot = df_filtered.pivot_table(index=['latitude', 'longitude'], columns='date', values='KNDVI')\n",
        "\n",
        "# Display the reshaped DataFrame\n",
        "print(ndvi_pivot.head())\n",
        "\n",
        "# Now, check the length of the time series for one pixel\n",
        "print(f\"Number of time points: {ndvi_pivot.shape[1]}\")\n"
      ]
    },
    {
      "cell_type": "code",
      "source": [
        "# Reset index to bring latitude and longitude back into columns\n",
        "ndvi_melted = ndvi_pivot.reset_index().melt(id_vars=['latitude', 'longitude'],\n",
        "                                            var_name='date',\n",
        "                                            value_name='KNDVI')\n",
        "\n",
        "# Convert 'date' column to datetime\n",
        "ndvi_melted['date'] = pd.to_datetime(ndvi_melted['date'])\n",
        "\n",
        "# Display the transformed DataFrame\n",
        "print(ndvi_melted.head())\n"
      ],
      "metadata": {
        "id": "GOdypR5GIhky",
        "colab": {
          "base_uri": "https://localhost:8080/",
          "height": 124
        },
        "outputId": "fb728275-73d4-4149-ffb7-e4703d509393"
      },
      "execution_count": 16,
      "outputs": [
        {
          "output_type": "display_data",
          "data": {
            "text/plain": [
              "<IPython.core.display.HTML object>"
            ],
            "text/html": [
              "\n",
              "            <style>\n",
              "                .geemap-dark {\n",
              "                    --jp-widgets-color: white;\n",
              "                    --jp-widgets-label-color: white;\n",
              "                    --jp-ui-font-color1: white;\n",
              "                    --jp-layout-color2: #454545;\n",
              "                    background-color: #383838;\n",
              "                }\n",
              "\n",
              "                .geemap-dark .jupyter-button {\n",
              "                    --jp-layout-color3: #383838;\n",
              "                }\n",
              "\n",
              "                .geemap-colab {\n",
              "                    background-color: var(--colab-primary-surface-color, white);\n",
              "                }\n",
              "\n",
              "                .geemap-colab .jupyter-button {\n",
              "                    --jp-layout-color3: var(--colab-primary-surface-color, white);\n",
              "                }\n",
              "            </style>\n",
              "            "
            ]
          },
          "metadata": {}
        },
        {
          "output_type": "stream",
          "name": "stdout",
          "text": [
            "   latitude  longitude       date   KNDVI\n",
            "0     43.06      41.39 2000-02-01     NaN\n",
            "1     43.06      41.45 2000-02-01     NaN\n",
            "2     43.06      41.51 2000-02-01     NaN\n",
            "3     43.08      41.40 2000-02-01  0.5442\n",
            "4     43.08      41.46 2000-02-01  0.5380\n"
          ]
        }
      ]
    },
    {
      "cell_type": "code",
      "source": [
        "# Import visualization libraries\n",
        "import seaborn as sns\n",
        "import matplotlib.pyplot as plt\n",
        "\n",
        "# Set plot size\n",
        "plt.figure(figsize=(5, 2))\n",
        "\n",
        "# Create a violin plot of KNDVI values across different time points\n",
        "sns.violinplot(x=ndvi_melted['date'].dt.year, y=ndvi_melted['KNDVI'], inner='box', color='yellow')\n",
        "# sns.violinplot(x=ndvi_melted['date'].dt.year, y=ndvi_melted['KNDVI'],\n",
        "#                inner='quartile', palette='muted')\n",
        "\n",
        "# Add title and labels\n",
        "# plt.title(f'KNDVI Distribution Over Time ({selected_roi})')\n",
        "plt.title('kNDVI Distribution in Europe')\n",
        "plt.xlabel('Year')\n",
        "plt.ylabel('kNDVI')\n",
        "\n",
        "# Rotate x-axis labels for better readability\n",
        "plt.xticks(rotation=45)\n",
        "\n",
        "# Show the plot\n",
        "plt.show()\n"
      ],
      "metadata": {
        "id": "ysRuzKCSIlQ_",
        "colab": {
          "base_uri": "https://localhost:8080/",
          "height": 277
        },
        "outputId": "893b5d00-c89c-4aae-a3f5-4f2dfb1d1721"
      },
      "execution_count": 17,
      "outputs": [
        {
          "output_type": "display_data",
          "data": {
            "text/plain": [
              "<IPython.core.display.HTML object>"
            ],
            "text/html": [
              "\n",
              "            <style>\n",
              "                .geemap-dark {\n",
              "                    --jp-widgets-color: white;\n",
              "                    --jp-widgets-label-color: white;\n",
              "                    --jp-ui-font-color1: white;\n",
              "                    --jp-layout-color2: #454545;\n",
              "                    background-color: #383838;\n",
              "                }\n",
              "\n",
              "                .geemap-dark .jupyter-button {\n",
              "                    --jp-layout-color3: #383838;\n",
              "                }\n",
              "\n",
              "                .geemap-colab {\n",
              "                    background-color: var(--colab-primary-surface-color, white);\n",
              "                }\n",
              "\n",
              "                .geemap-colab .jupyter-button {\n",
              "                    --jp-layout-color3: var(--colab-primary-surface-color, white);\n",
              "                }\n",
              "            </style>\n",
              "            "
            ]
          },
          "metadata": {}
        },
        {
          "output_type": "display_data",
          "data": {
            "text/plain": [
              "<Figure size 500x200 with 1 Axes>"
            ],
            "image/png": "[encoded data removed]"
          },
          "metadata": {}
        }
      ]
    }
  ]
}
