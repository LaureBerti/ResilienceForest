{
  "nbformat": 4,
  "nbformat_minor": 0,
  "metadata": {
    "colab": {
      "provenance": [],
      "toc_visible": true
    },
    "kernelspec": {
      "name": "python3",
      "display_name": "Python 3"
    },
    "language_info": {
      "name": "python"
    }
  },
  "cells": [
    {
      "cell_type": "markdown",
      "source": [
        "This block of codes estimates the Ecosystem Service Valuation (ESV) for  Dynamic Estimation Using KNDVI Trends. Using several methods to Implement Dynamic ESV such as GradientBoosting, Advanced Machine Learning Models (XGBoost), Random Forest and Ensemble Modeling Approach to estimate ESV.\n",
        "\n",
        "@Author: Pius Nwachukwu"
      ],
      "metadata": {
        "id": "NbTpQ-IkmCVa"
      }
    },
    {
      "cell_type": "markdown",
      "metadata": {
        "id": "cdMSXJFZGgLC"
      },
      "source": [
        "# 3rd Phase:\n",
        "# Step 1. Dynamic ESV Estimation Using KNDVI Trends\n"
      ]
    },
    {
      "cell_type": "code",
      "execution_count": null,
      "metadata": {
        "id": "xA_wYJc2pb3H"
      },
      "outputs": [],
      "source": [
        "!pip install eemont\n",
        "!pip install wxee\n",
        "!pip install earthengine-api"
      ]
    },
    {
      "cell_type": "code",
      "execution_count": null,
      "metadata": {
        "id": "Aj0rHd0Jpb3I"
      },
      "outputs": [],
      "source": [
        "import ee, eemont, wxee, pandas as pd\n"
      ]
    },
    {
      "cell_type": "code",
      "execution_count": null,
      "metadata": {
        "colab": {
          "base_uri": "https://localhost:8080/"
        },
        "outputId": "5dc173a8-7ed7-495c-c94c-3c12ccf431e7",
        "id": "8YjE-yOqpb3J"
      },
      "outputs": [
        {
          "output_type": "stream",
          "name": "stdout",
          "text": [
            "Mounted at /content/drive\n"
          ]
        }
      ],
      "source": [
        "# Authenticate and initialize the Earth Engine module.\n",
        "ee.Authenticate()\n",
        "ee.Initialize(project='ee-')\n",
        "\n",
        "# Mount Google Drive\n",
        "from google.colab import drive\n",
        "drive.mount('/content/drive')\n"
      ]
    },
    {
      "cell_type": "code",
      "source": [
        "# Load datasets\n",
        "chirps_file =  pd.read_csv(\"/content/drive/My Drive/CHIRPS_exports/CHIRPS_Monthly_TimeSeries_Fixed.csv\")\n",
        "esv_file = pd.read_csv(\"/content/drive/My Drive/ESV_Data/Filtered_ESV.csv\")\n",
        "kndvi_file = pd.read_csv(\"/content/drive/My Drive/NDVI_Time_Series_With_Country_Continent25.csv\")\n",
        "\n",
        "# Confirm column names for each dataset\n",
        "print(\"NDVI Dataset Columns:\")\n",
        "print(kndvi_file.columns)\n",
        "\n",
        "print(\"\\nCHIRPS Dataset Columns:\")\n",
        "print(chirps_file.columns)\n",
        "\n",
        "print(\"\\nESV Dataset Columns:\")\n",
        "print(esv_file.columns)\n"
      ],
      "metadata": {
        "colab": {
          "base_uri": "https://localhost:8080/"
        },
        "id": "mjypYYztqRXF",
        "outputId": "6cdba5b2-0a73-4e97-cd0e-88cb6aba9fba"
      },
      "execution_count": null,
      "outputs": [
        {
          "output_type": "stream",
          "name": "stdout",
          "text": [
            "NDVI Dataset Columns:\n",
            "Index(['system:index', 'Continent', 'Country', 'Latitude', 'Longitude', 'date',\n",
            "       'mean', '.geo', 'NDVI_Ref', 'KNDVI'],\n",
            "      dtype='object')\n",
            "\n",
            "CHIRPS Dataset Columns:\n",
            "Index(['system:index', 'Continent', 'Countries', 'Latitude', 'Longitude',\n",
            "       'date', 'mean', '.geo'],\n",
            "      dtype='object')\n",
            "\n",
            "ESV Dataset Columns:\n",
            "Index(['Continent', 'year', 'month', 'ESVD2.0_Biome',\n",
            "       'Int$ Per Hectare Per Year', 'date'],\n",
            "      dtype='object')\n"
          ]
        }
      ]
    },
    {
      "cell_type": "code",
      "source": [
        "# Clean and prepare the Data\n",
        "# Drop 'Countries' from CHIRPS dataset and 'Country' from NDVI dataset\n",
        "kndvi_file.drop(columns=['Country'], inplace=True, errors='ignore')\n",
        "chirps_file.drop(columns=['Countries'], inplace=True, errors='ignore')\n",
        "\n",
        "# Confirm the changes by displaying the columns\n",
        "print(\"NDVI Dataset Columns After Dropping Country:\")\n",
        "print(kndvi_file.columns)\n",
        "\n",
        "print(\"\\nCHIRPS Dataset Columns After Dropping Countries:\")\n",
        "print(chirps_file.columns)"
      ],
      "metadata": {
        "colab": {
          "base_uri": "https://localhost:8080/"
        },
        "id": "6GXZe_BV7BAb",
        "outputId": "969b595b-ea2c-4d89-ab81-b5cdbdf40a55"
      },
      "execution_count": null,
      "outputs": [
        {
          "output_type": "stream",
          "name": "stdout",
          "text": [
            "NDVI Dataset Columns After Dropping Country:\n",
            "Index(['system:index', 'Continent', 'Latitude', 'Longitude', 'date', 'mean',\n",
            "       '.geo', 'NDVI_Ref', 'KNDVI'],\n",
            "      dtype='object')\n",
            "\n",
            "CHIRPS Dataset Columns After Dropping Countries:\n",
            "Index(['system:index', 'Continent', 'Latitude', 'Longitude', 'date', 'mean',\n",
            "       '.geo'],\n",
            "      dtype='object')\n"
          ]
        }
      ]
    },
    {
      "cell_type": "code",
      "source": [
        "# Conver the date columns to datetime and extract the years\n",
        "\n",
        "# Convert date columns to datetime format\n",
        "kndvi_file['date'] = pd.to_datetime(kndvi_file['date'], errors='coerce')\n",
        "chirps_file['date'] = pd.to_datetime(chirps_file['date'], errors='coerce')\n",
        "esv_file['date'] = pd.to_datetime(esv_file['date'], errors='coerce')\n",
        "\n",
        "\n",
        "# Extract month for seasonal grouping\n",
        "chirps_file['month'] = chirps_file['date'].dt.month\n",
        "esv_file['month'] = esv_file['date'].dt.month\n",
        "kndvi_file['month'] = kndvi_file['date'].dt.month\n",
        "\n",
        "# Extract the year from the date column and create a new 'year' column\n",
        "kndvi_file['year'] = kndvi_file['date'].dt.year  # Adding this line to extract year\n",
        "chirps_file['year'] = chirps_file['date'].dt.year  # Adding this line to extract year\n",
        "# Confirm the new column has been added correctly\n",
        "print(\"NDVI Dataset After Adding Year Column:\")\n",
        "print(kndvi_file[['date', 'year']].head())\n",
        "\n",
        "print(\"\\nCHIRPS Dataset After Adding Year Column:\")\n",
        "print(chirps_file[['date', 'year']].head())\n",
        "\n",
        "\n",
        "\n",
        "# kndvi_df.rename(columns={'mean': 'KNDVI_Value'}, inplace=True)\n",
        "# esv_df.rename(columns={'Int$ Per Hectare Per Year': 'ESV_Value'}, inplace=True)"
      ],
      "metadata": {
        "colab": {
          "base_uri": "https://localhost:8080/"
        },
        "id": "tXLjmavP3kNG",
        "outputId": "feae940b-3d0d-415a-c9c2-b66566d170ef"
      },
      "execution_count": null,
      "outputs": [
        {
          "output_type": "stream",
          "name": "stdout",
          "text": [
            "NDVI Dataset After Adding Year Column:\n",
            "        date  year\n",
            "0 2000-02-01  2000\n",
            "1 2000-02-01  2000\n",
            "2 2000-02-01  2000\n",
            "3 2000-02-01  2000\n",
            "4 2000-02-01  2000\n",
            "\n",
            "CHIRPS Dataset After Adding Year Column:\n",
            "        date  year\n",
            "0 2000-01-01  2000\n",
            "1 2000-01-01  2000\n",
            "2 2000-01-01  2000\n",
            "3 2000-01-01  2000\n",
            "4 2000-01-01  2000\n"
          ]
        }
      ]
    },
    {
      "cell_type": "code",
      "source": [
        "print(esv_file['year'].unique())"
      ],
      "metadata": {
        "colab": {
          "base_uri": "https://localhost:8080/"
        },
        "id": "p_uBwCZ5lPzu",
        "outputId": "d2594560-5284-4fdd-831e-9b6a6ee02d94"
      },
      "execution_count": null,
      "outputs": [
        {
          "output_type": "stream",
          "name": "stdout",
          "text": [
            "[2010 2018 2021 2012 2016 2008 2022 2009 2013 2020 2019 2017 2015 2014\n",
            " 2005 2002 2006 2007 2004 2000 2003 2001 2011]\n"
          ]
        }
      ]
    },
    {
      "cell_type": "code",
      "source": [
        "# Aggregate NDVI data by Continent and year, taking the mean of KNDVI\n",
        "ndvi_agg = kndvi_file.groupby(['Continent', 'year'])['KNDVI'].mean().reset_index()\n",
        "\n",
        "# Aggregate CHIRPS data by Continent and year, taking the mean of precipitation values\n",
        "chirps_agg = chirps_file.groupby(['Continent', 'year'])['mean'].mean().reset_index()\n",
        "\n",
        "# Rename columns for clarity\n",
        "chirps_agg.rename(columns={'mean': 'Precipitation_mean'}, inplace=True)\n",
        "\n",
        "\n",
        "# Display results\n",
        "print(\"Aggregated NDVI Data:\")\n",
        "print(ndvi_agg.head())\n",
        "\n",
        "print(\"\\nAggregated CHIRPS Data:\")\n",
        "print(chirps_agg.head())"
      ],
      "metadata": {
        "colab": {
          "base_uri": "https://localhost:8080/"
        },
        "id": "mFGdnEap_z8y",
        "outputId": "443c78ab-c23b-4186-b43e-78854b7246bc"
      },
      "execution_count": null,
      "outputs": [
        {
          "output_type": "stream",
          "name": "stdout",
          "text": [
            "Aggregated NDVI Data:\n",
            "  Continent  year     KNDVI\n",
            "0    Africa  2000  0.752069\n",
            "1    Africa  2001  0.758075\n",
            "2    Africa  2002  0.758006\n",
            "3    Africa  2003  0.758224\n",
            "4    Africa  2004  0.764589\n",
            "\n",
            "Aggregated CHIRPS Data:\n",
            "  Continent  year  Precipitation_mean\n",
            "0    Africa  2000           86.841330\n",
            "1    Africa  2001           97.497208\n",
            "2    Africa  2002          103.734505\n",
            "3    Africa  2003           94.661875\n",
            "4    Africa  2004           95.382422\n"
          ]
        }
      ]
    },
    {
      "cell_type": "code",
      "source": [
        "# Here's the code to prepare the ESV dataset:\n",
        "\n",
        "\n",
        "# Select only relevant columns for analysis\n",
        "esv_selected = esv_file[['Continent', 'year', 'ESVD2.0_Biome', 'Int$ Per Hectare Per Year']]\n",
        "\n",
        "# Display the first few rows of the cleaned ESV dataset\n",
        "print(\"Prepared ESV Data:\")\n",
        "print(esv_selected.head())"
      ],
      "metadata": {
        "colab": {
          "base_uri": "https://localhost:8080/"
        },
        "id": "Y1rTX4omBIYC",
        "outputId": "92e93276-6501-487c-832e-fb74aa4e3434"
      },
      "execution_count": null,
      "outputs": [
        {
          "output_type": "stream",
          "name": "stdout",
          "text": [
            "Prepared ESV Data:\n",
            "  Continent  year                                      ESVD2.0_Biome  \\\n",
            "0    Europe  2010  Temperate forests and woodlands; Rivers and la...   \n",
            "1    Europe  2010  Temperate forests and woodlands; Rivers and la...   \n",
            "2    Europe  2010  Temperate forests and woodlands; Rivers and la...   \n",
            "3    Europe  2010  Temperate forests and woodlands; Rivers and la...   \n",
            "4    Europe  2010  Temperate forests and woodlands; Rivers and la...   \n",
            "\n",
            "   Int$ Per Hectare Per Year  \n",
            "0                   49.40485  \n",
            "1                   49.40485  \n",
            "2                   49.40485  \n",
            "3                   49.40485  \n",
            "4                   49.40485  \n"
          ]
        }
      ]
    },
    {
      "cell_type": "code",
      "source": [
        "# Here’s the code to perform the merge:\n",
        "\n",
        "# Merge NDVI and CHIRPS data on Continent and year\n",
        "ndvi_chirps_merged = pd.merge(ndvi_agg, chirps_agg, on=['Continent', 'year'], how='inner')\n",
        "\n",
        "# Merge the combined NDVI-CHIRPS dataset with ESV dataset\n",
        "final_merged_df = pd.merge(ndvi_chirps_merged, esv_selected, on=['Continent', 'year'], how='inner')\n",
        "\n",
        "# Display the first few rows of the merged dataset\n",
        "print(\"Final Merged Dataset:\")\n",
        "print(final_merged_df.head())\n",
        "\n",
        "# Check the shape to confirm number of records\n",
        "print(\"\\nFinal Merged Dataset Shape:\", final_merged_df.shape)"
      ],
      "metadata": {
        "colab": {
          "base_uri": "https://localhost:8080/"
        },
        "id": "zvesqijM_eP6",
        "outputId": "51b367b4-389b-422e-ba41-2ff33a224d99"
      },
      "execution_count": null,
      "outputs": [
        {
          "output_type": "stream",
          "name": "stdout",
          "text": [
            "Final Merged Dataset:\n",
            "  Continent  year     KNDVI  Precipitation_mean  \\\n",
            "0    Africa  2000  0.752069            86.84133   \n",
            "1    Africa  2000  0.752069            86.84133   \n",
            "2    Africa  2000  0.752069            86.84133   \n",
            "3    Africa  2000  0.752069            86.84133   \n",
            "4    Africa  2000  0.752069            86.84133   \n",
            "\n",
            "                                       ESVD2.0_Biome  \\\n",
            "0  Tropical and subtropical forests; Coastal systems   \n",
            "1  Tropical and subtropical forests; Coastal systems   \n",
            "2  Tropical and subtropical forests; Coastal systems   \n",
            "3  Tropical and subtropical forests; Coastal systems   \n",
            "4  Tropical and subtropical forests; Coastal systems   \n",
            "\n",
            "   Int$ Per Hectare Per Year  \n",
            "0                   0.006142  \n",
            "1                   0.006142  \n",
            "2                   0.006142  \n",
            "3                   0.006142  \n",
            "4                   0.006142  \n",
            "\n",
            "Final Merged Dataset Shape: (32412, 6)\n"
          ]
        }
      ]
    },
    {
      "cell_type": "code",
      "source": [
        "# Display summary statistics for numerical columns\n",
        "print(\"Summary Statistics:\\n\")\n",
        "print(final_merged_df.describe())\n",
        "\n",
        "# Check for missing values\n",
        "print(\"\\nMissing Values:\\n\")\n",
        "print(final_merged_df.isnull().sum())"
      ],
      "metadata": {
        "colab": {
          "base_uri": "https://localhost:8080/"
        },
        "id": "pOP2bCTxCQ4F",
        "outputId": "22b2dfd4-0b52-450e-ecda-0953783fe0a0"
      },
      "execution_count": null,
      "outputs": [
        {
          "output_type": "stream",
          "name": "stdout",
          "text": [
            "Summary Statistics:\n",
            "\n",
            "               year         KNDVI  Precipitation_mean  \\\n",
            "count  32412.000000  32412.000000        32412.000000   \n",
            "mean    2014.387634      0.800531          124.444055   \n",
            "std        5.901011      0.032611           52.824380   \n",
            "min     2000.000000      0.749103           53.404204   \n",
            "25%     2011.000000      0.780756           72.905512   \n",
            "50%     2016.000000      0.788434          101.734554   \n",
            "75%     2019.000000      0.826828          171.561672   \n",
            "max     2022.000000      0.896823          229.987100   \n",
            "\n",
            "       Int$ Per Hectare Per Year  \n",
            "count               32412.000000  \n",
            "mean                  685.471956  \n",
            "std                  5833.096827  \n",
            "min                     0.000000  \n",
            "25%                     1.675221  \n",
            "50%                     5.498800  \n",
            "75%                    26.748117  \n",
            "max                165725.675658  \n",
            "\n",
            "Missing Values:\n",
            "\n",
            "Continent                    0\n",
            "year                         0\n",
            "KNDVI                        0\n",
            "Precipitation_mean           0\n",
            "ESVD2.0_Biome                0\n",
            "Int$ Per Hectare Per Year    0\n",
            "dtype: int64\n"
          ]
        }
      ]
    },
    {
      "cell_type": "markdown",
      "metadata": {
        "id": "SM2SdulXocfD"
      },
      "source": [
        "# Step 2. Steps for Dynamic ESV Estimation:"
      ]
    },
    {
      "cell_type": "code",
      "execution_count": null,
      "metadata": {
        "colab": {
          "base_uri": "https://localhost:8080/"
        },
        "id": "iY-dx3Gxpq6H",
        "outputId": "7e2e3494-cd98-49c9-dc49-22aaf03741a0"
      },
      "outputs": [
        {
          "output_type": "stream",
          "name": "stdout",
          "text": [
            "Missing values in the dataset:\n",
            "Continent                    0\n",
            "year                         0\n",
            "KNDVI                        0\n",
            "Precipitation_mean           0\n",
            "ESVD2.0_Biome                0\n",
            "Int$ Per Hectare Per Year    0\n",
            "dtype: int64\n",
            "Prepared Dataset:\n",
            "  Continent  year     KNDVI  Precipitation_mean  \\\n",
            "0    Africa  2000 -1.486088           -0.711855   \n",
            "1    Africa  2000 -1.486088           -0.711855   \n",
            "2    Africa  2000 -1.486088           -0.711855   \n",
            "3    Africa  2000 -1.486088           -0.711855   \n",
            "4    Africa  2000 -1.486088           -0.711855   \n",
            "\n",
            "                                       ESVD2.0_Biome  \\\n",
            "0  Tropical and subtropical forests; Coastal systems   \n",
            "1  Tropical and subtropical forests; Coastal systems   \n",
            "2  Tropical and subtropical forests; Coastal systems   \n",
            "3  Tropical and subtropical forests; Coastal systems   \n",
            "4  Tropical and subtropical forests; Coastal systems   \n",
            "\n",
            "   Int$ Per Hectare Per Year  \n",
            "0                   0.006142  \n",
            "1                   0.006142  \n",
            "2                   0.006142  \n",
            "3                   0.006142  \n",
            "4                   0.006142  \n"
          ]
        }
      ],
      "source": [
        "# Step 1: Data Preparation\n",
        "\n",
        "from sklearn.preprocessing import StandardScaler\n",
        "\n",
        "# Check for missing values\n",
        "print(\"Missing values in the dataset:\")\n",
        "print(final_merged_df.isnull().sum())\n",
        "\n",
        "# Drop rows with missing values\n",
        "final_merged_df.dropna(inplace=True)\n",
        "\n",
        "# Select features and target variable\n",
        "features = ['KNDVI', 'Precipitation_mean']\n",
        "target = 'esv_value'\n",
        "\n",
        "# Scale the feature values\n",
        "scaler = StandardScaler()\n",
        "final_merged_df[features] = scaler.fit_transform(final_merged_df[features])\n",
        "\n",
        "# Display the cleaned and prepared dataset\n",
        "print(\"Prepared Dataset:\")\n",
        "print(final_merged_df.head())\n"
      ]
    },
    {
      "cell_type": "code",
      "execution_count": null,
      "metadata": {
        "colab": {
          "base_uri": "https://localhost:8080/"
        },
        "id": "HLoamiOlpzl_",
        "outputId": "b1502328-ac81-4715-f47f-bd60188ea5ee"
      },
      "outputs": [
        {
          "output_type": "stream",
          "name": "stdout",
          "text": [
            "Missing values after imputation:\n",
            "Continent                    0\n",
            "year                         0\n",
            "KNDVI                        0\n",
            "Precipitation_mean           0\n",
            "ESVD2.0_Biome                0\n",
            "Int$ Per Hectare Per Year    0\n",
            "esv_value                    0\n",
            "dtype: int64\n"
          ]
        }
      ],
      "source": [
        "# Step 2:Impute missing values with the mean of the column\n",
        "final_merged_df = final_merged_df.assign(esv_value=final_merged_df['Int$ Per Hectare Per Year'].fillna(final_merged_df['Int$ Per Hectare Per Year'].mean()))\n",
        "\n",
        "\n",
        "# Confirm missing values are handled\n",
        "print(\"Missing values after imputation:\")\n",
        "print(final_merged_df.isnull().sum())\n"
      ]
    },
    {
      "cell_type": "code",
      "execution_count": null,
      "metadata": {
        "colab": {
          "base_uri": "https://localhost:8080/"
        },
        "id": "B3x1a02OqEzc",
        "outputId": "b0d734d5-f0c7-4d17-ba8b-fe9fe796bd67"
      },
      "outputs": [
        {
          "output_type": "stream",
          "name": "stdout",
          "text": [
            "  Continent  year     KNDVI  KNDVI_trend  Precipitation_mean  \\\n",
            "0    Africa  2000 -1.486088          0.0           -0.711855   \n",
            "1    Africa  2000 -1.486088          0.0           -0.711855   \n",
            "2    Africa  2000 -1.486088          0.0           -0.711855   \n",
            "3    Africa  2000 -1.486088          0.0           -0.711855   \n",
            "4    Africa  2000 -1.486088          0.0           -0.711855   \n",
            "\n",
            "   precipitation_trend  Int$ Per Hectare Per Year  \n",
            "0                  0.0                   0.006142  \n",
            "1                  0.0                   0.006142  \n",
            "2                  0.0                   0.006142  \n",
            "3                  0.0                   0.006142  \n",
            "4                  0.0                   0.006142  \n"
          ]
        }
      ],
      "source": [
        "# Step 3: Feature Engineering (This operation Might be removed)\n",
        "\n",
        "# Calculate year-over-year change in KNDVI and precipitation\n",
        "final_merged_df['KNDVI_trend'] = final_merged_df.groupby('Continent')['KNDVI'].diff()\n",
        "final_merged_df['precipitation_trend'] = final_merged_df.groupby('Continent')['Precipitation_mean'].diff()\n",
        "\n",
        "# Fill missing values resulting from diff operation\n",
        "final_merged_df.fillna(0, inplace=True)\n",
        "\n",
        "# Display the updated dataset with new features\n",
        "print(final_merged_df[['Continent', 'year', 'KNDVI', 'KNDVI_trend', 'Precipitation_mean', 'precipitation_trend', 'Int$ Per Hectare Per Year']].head())\n"
      ]
    },
    {
      "cell_type": "code",
      "source": [
        "# final_merged_df.to_csv('/content/drive/My Drive/ESV_Data/final_merged_dfm_Monthly.csv', index=False)\n"
      ],
      "metadata": {
        "id": "iuCv9ea7RSyg"
      },
      "execution_count": null,
      "outputs": []
    },
    {
      "cell_type": "code",
      "execution_count": null,
      "metadata": {
        "colab": {
          "base_uri": "https://localhost:8080/"
        },
        "id": "RwwqL2qsqXds",
        "outputId": "f4b99fd7-ca59-4010-e806-7c4a3f9434ee"
      },
      "outputs": [
        {
          "output_type": "stream",
          "name": "stdout",
          "text": [
            "Model Performance Metrics:\n",
            "Mean Absolute Error (MAE): 841.38\n",
            "Root Mean Squared Error (RMSE): 4111.84\n",
            "R² Score: 0.19\n"
          ]
        }
      ],
      "source": [
        "# Step 4: Model Training for Dynamic ESV Estimation (Valuation in $)\n",
        "\n",
        "from sklearn.model_selection import train_test_split\n",
        "from sklearn.ensemble import GradientBoostingRegressor\n",
        "from sklearn.metrics import mean_absolute_error, mean_squared_error, r2_score\n",
        "import numpy as np\n",
        "\n",
        "# Select features and target variable\n",
        "features = ['KNDVI', 'KNDVI_trend', 'Precipitation_mean', 'precipitation_trend']\n",
        "X = final_merged_df[features]\n",
        "y = final_merged_df['Int$ Per Hectare Per Year']\n",
        "\n",
        "# Split data into training (80%) and testing (20%) sets\n",
        "X_train, X_test, y_train, y_test = train_test_split(X, y, test_size=0.2, random_state=42)\n",
        "\n",
        "# Train the Gradient Boosting model\n",
        "model = GradientBoostingRegressor(n_estimators=100, learning_rate=0.1, max_depth=3, random_state=42)\n",
        "model.fit(X_train, y_train)\n",
        "\n",
        "# Make predictions\n",
        "y_pred = model.predict(X_test)\n",
        "\n",
        "# Evaluate model performance\n",
        "mae = mean_absolute_error(y_test, y_pred)\n",
        "rmse = np.sqrt(mean_squared_error(y_test, y_pred))\n",
        "r2 = r2_score(y_test, y_pred)\n",
        "\n",
        "print(\"Model Performance Metrics:\")\n",
        "print(f\"Mean Absolute Error (MAE): {mae:.2f}\")\n",
        "print(f\"Root Mean Squared Error (RMSE): {rmse:.2f}\")\n",
        "print(f\"R² Score: {r2:.2f}\")\n"
      ]
    },
    {
      "cell_type": "markdown",
      "metadata": {
        "id": "4RjKYTCfuP7C"
      },
      "source": [
        "# Step 3. Method to Implement Dynamic ESV (GradientBoosting)\n",
        "Step 1: Introduce Biome-Specific Dummies"
      ]
    },
    {
      "cell_type": "code",
      "execution_count": null,
      "metadata": {
        "id": "ZSKwXNZBuETM"
      },
      "outputs": [],
      "source": [
        "# Step 1: Introduce Biome-Specific Dummies\n",
        "\n",
        "# Create dummy variables for biome types\n",
        "final_merged_df = pd.get_dummies(final_merged_df, columns=['ESVD2.0_Biome'], drop_first=True)\n",
        "\n",
        "# Display updated dataset with biome dummies\n",
        "print(\"Dataset after adding biome-specific dummies:\")\n",
        "print(final_merged_df.head())"
      ]
    },
    {
      "cell_type": "code",
      "execution_count": null,
      "metadata": {
        "id": "TrFxS8-8uyRe"
      },
      "outputs": [],
      "source": [
        "# Step 2: Include Lagged Values of ESV\n",
        "\n",
        "# Sort by continent and year for proper lag calculation\n",
        "final_merged_df.sort_values(by=['Continent', 'year'], inplace=True)\n",
        "\n",
        "# Add a lagged ESV column (previous year ESV)\n",
        "final_merged_df['esv_value_lag1'] = final_merged_df.groupby('Continent')['esv_value'].shift(1)\n",
        "\n",
        "# Fill any NaN values introduced by lagging\n",
        "final_merged_df['esv_value_lag1'].fillna(0, inplace=True)\n",
        "\n",
        "# Display updated dataset with lag feature\n",
        "print(\"Dataset after adding lagged ESV values:\")\n",
        "print(final_merged_df[['Continent', 'year', 'esv_value', 'esv_value_lag1']].head())"
      ]
    },
    {
      "cell_type": "code",
      "execution_count": null,
      "metadata": {
        "colab": {
          "base_uri": "https://localhost:8080/"
        },
        "id": "3g94d2T1u6Jy",
        "outputId": "eb9f2994-28c9-4701-9c8f-95daf760d3dd"
      },
      "outputs": [
        {
          "output_type": "stream",
          "name": "stdout",
          "text": [
            "  Continent  year  esv_value  esv_value_lag1\n",
            "0    Africa  2000   0.006142        0.000000\n",
            "1    Africa  2000   0.006142        0.006142\n",
            "2    Africa  2000   0.006142        0.006142\n",
            "3    Africa  2000   0.006142        0.006142\n",
            "4    Africa  2000   0.006142        0.006142\n"
          ]
        }
      ],
      "source": [
        "#  check if the lagged values were properly added\n",
        "\n",
        "# Display dataset with the new lag feature\n",
        "print(final_merged_df[['Continent', 'year', 'esv_value', 'esv_value_lag1']].head())"
      ]
    },
    {
      "cell_type": "code",
      "execution_count": null,
      "metadata": {
        "id": "VD81O0tTvE3P"
      },
      "outputs": [],
      "source": [
        "# Step 3: Add Polynomial Features\n",
        "\n",
        "from sklearn.preprocessing import PolynomialFeatures\n",
        "\n",
        "# Selecting features to expand with polynomial terms\n",
        "features_to_poly = ['KNDVI', 'Precipitation_mean']\n",
        "\n",
        "# Apply polynomial transformation\n",
        "poly = PolynomialFeatures(degree=2, include_bias=False)\n",
        "poly_features = poly.fit_transform(final_merged_df[features_to_poly])\n",
        "\n",
        "# Convert to DataFrame and merge with existing data\n",
        "poly_df = pd.DataFrame(poly_features, columns=poly.get_feature_names_out(features_to_poly))\n",
        "final_merged_df = pd.concat([final_merged_df.reset_index(drop=True), poly_df], axis=1)\n",
        "\n",
        "# Display dataset with polynomial features\n",
        "print(\"Dataset after adding polynomial features:\")\n",
        "print(final_merged_df.head())"
      ]
    },
    {
      "cell_type": "code",
      "execution_count": null,
      "metadata": {
        "colab": {
          "base_uri": "https://localhost:8080/"
        },
        "id": "8Q0fax20vUuU",
        "outputId": "3898a77e-9fcd-438c-e92c-59e08fb50fce"
      },
      "outputs": [
        {
          "output_type": "stream",
          "name": "stdout",
          "text": [
            "Updated Model Performance Metrics:\n",
            "Mean Absolute Error (MAE): 0.38\n",
            "Root Mean Squared Error (RMSE): 0.93\n",
            "R² Score: 1.00\n"
          ]
        }
      ],
      "source": [
        "# Run the Updated Model Training Code:\n",
        "\n",
        "\n",
        "from sklearn.model_selection import train_test_split\n",
        "from sklearn.ensemble import GradientBoostingRegressor\n",
        "from sklearn.metrics import mean_absolute_error, mean_squared_error, r2_score\n",
        "import numpy as np\n",
        "\n",
        "# Selecting relevant features for modeling\n",
        "feature_columns = [col for col in final_merged_df.columns if col not in ['Continent', 'year', 'Int$ Per Hectare Per Year']]\n",
        "X = final_merged_df[feature_columns]\n",
        "y = final_merged_df['Int$ Per Hectare Per Year']\n",
        "\n",
        "# Split the dataset into training (80%) and testing (20%) sets\n",
        "X_train, X_test, y_train, y_test = train_test_split(X, y, test_size=0.2, random_state=42)\n",
        "\n",
        "# Train the Gradient Boosting model with updated features\n",
        "model = GradientBoostingRegressor(n_estimators=200, learning_rate=0.05, max_depth=4, random_state=42)\n",
        "model.fit(X_train, y_train)\n",
        "\n",
        "# Make predictions on the test set\n",
        "y_pred = model.predict(X_test)\n",
        "\n",
        "# Evaluate model performance\n",
        "mae = mean_absolute_error(y_test, y_pred)\n",
        "rmse = np.sqrt(mean_squared_error(y_test, y_pred))\n",
        "r2 = r2_score(y_test, y_pred)\n",
        "\n",
        "print(\"Updated Model Performance Metrics:\")\n",
        "print(f\"Mean Absolute Error (MAE): {mae:.2f}\")\n",
        "print(f\"Root Mean Squared Error (RMSE): {rmse:.2f}\")\n",
        "print(f\"R² Score: {r2:.2f}\")\n"
      ]
    },
    {
      "cell_type": "markdown",
      "metadata": {
        "id": "Fga9oaJEvZxM"
      },
      "source": [
        "# Step 4. Next Steps to Further Improve Performance:\n",
        "\n",
        "Step 1: Hyperparameter Tuning"
      ]
    },
    {
      "cell_type": "code",
      "execution_count": null,
      "metadata": {
        "colab": {
          "base_uri": "https://localhost:8080/"
        },
        "id": "VGuNa78nvZd8",
        "outputId": "1b9738d4-763d-480d-a62b-dfe1e3b917f3"
      },
      "outputs": [
        {
          "output_type": "stream",
          "name": "stdout",
          "text": [
            "Fitting 5 folds for each of 162 candidates, totalling 810 fits\n",
            "Best Hyperparameters: {'learning_rate': 0.05, 'max_depth': 5, 'min_samples_split': 5, 'n_estimators': 300, 'subsample': 1.0}\n",
            "\n",
            "Optimized Model Performance Metrics:\n",
            "Mean Absolute Error (MAE): 0.19\n",
            "Root Mean Squared Error (RMSE): 2.05\n",
            "R² Score: 1.00\n"
          ]
        }
      ],
      "source": [
        "# Code for Hyperparameter Tuning using GridSearchCV\n",
        "\n",
        "from sklearn.ensemble import GradientBoostingRegressor\n",
        "from sklearn.model_selection import GridSearchCV\n",
        "\n",
        "# Define the parameter grid to search\n",
        "param_grid = {\n",
        "    'n_estimators': [100, 200, 300],  # Number of boosting stages\n",
        "    'learning_rate': [0.01, 0.05, 0.1],  # Learning rate to shrink contribution of each tree\n",
        "    'max_depth': [3, 5, 7],  # Maximum depth of each tree\n",
        "    'subsample': [0.8, 1.0],  # Fraction of samples used to grow each tree\n",
        "    'min_samples_split': [2, 5, 10]  # Minimum samples to split an internal node\n",
        "}\n",
        "\n",
        "# Initialize the model\n",
        "gb_model = GradientBoostingRegressor(random_state=42)\n",
        "\n",
        "# Perform grid search with cross-validation\n",
        "grid_search = GridSearchCV(estimator=gb_model, param_grid=param_grid,\n",
        "                           cv=5, scoring='neg_mean_squared_error', n_jobs=-1, verbose=1)\n",
        "\n",
        "# Fit the model to the training data\n",
        "grid_search.fit(X_train, y_train)\n",
        "\n",
        "# Get the best parameters from the grid search\n",
        "best_params = grid_search.best_params_\n",
        "print(\"Best Hyperparameters:\", best_params)\n",
        "\n",
        "# Train a new model with the best found parameters\n",
        "optimized_model = GradientBoostingRegressor(**best_params, random_state=42)\n",
        "optimized_model.fit(X_train, y_train)\n",
        "\n",
        "# Make predictions\n",
        "y_pred_opt = optimized_model.predict(X_test)\n",
        "\n",
        "# Evaluate performance\n",
        "mae_opt = mean_absolute_error(y_test, y_pred_opt)\n",
        "rmse_opt = np.sqrt(mean_squared_error(y_test, y_pred_opt))\n",
        "r2_opt = r2_score(y_test, y_pred_opt)\n",
        "\n",
        "print(\"\\nOptimized Model Performance Metrics:\")\n",
        "print(f\"Mean Absolute Error (MAE): {mae_opt:.2f}\")\n",
        "print(f\"Root Mean Squared Error (RMSE): {rmse_opt:.2f}\")\n",
        "print(f\"R² Score: {r2_opt:.2f}\")"
      ]
    },
    {
      "cell_type": "markdown",
      "metadata": {
        "id": "DH7ES_1a4HTV"
      },
      "source": [
        "# Step 5. Next Steps: Try Advanced Machine Learning Models (XGBoost)\n"
      ]
    },
    {
      "cell_type": "code",
      "source": [
        "# Step 1: Implement XGBoost Regression\n",
        "\n",
        "import xgboost as xgb\n",
        "from sklearn.metrics import mean_absolute_error, mean_squared_error, r2_score\n",
        "import numpy as np\n",
        "\n",
        "# Prepare DMatrix for XGBoost (optimized internal data structure)\n",
        "# Convert X_train and X_test to NumPy arrays before creating DMatrix\n",
        "dtrain = xgb.DMatrix(X_train.to_numpy(), label=y_train)  # Convert to NumPy array\n",
        "dtest = xgb.DMatrix(X_test.to_numpy(), label=y_test)    # Convert to NumPy array\n",
        "\n",
        "# Define XGBoost parameters\n",
        "xgb_params = {\n",
        "    'objective': 'reg:squarederror',  # Regression task\n",
        "    'eval_metric': 'rmse',\n",
        "    'learning_rate': 0.05,\n",
        "    'max_depth': 5,\n",
        "    'n_estimators': 200,\n",
        "    'subsample': 0.8,\n",
        "    'colsample_bytree': 0.8,\n",
        "    'random_state': 42\n",
        "}\n",
        "\n",
        "# Train the XGBoost model\n",
        "xgb_model = xgb.train(params=xgb_params, dtrain=dtrain, num_boost_round=200)\n",
        "\n",
        "# Make predictions\n",
        "y_pred_xgb = xgb_model.predict(dtest)\n",
        "\n",
        "# Evaluate model performance\n",
        "mae_xgb = mean_absolute_error(y_test, y_pred_xgb)\n",
        "rmse_xgb = np.sqrt(mean_squared_error(y_test, y_pred_xgb))\n",
        "r2_xgb = r2_score(y_test, y_pred_xgb)\n",
        "\n",
        "print(\"XGBoost Model Performance:\")\n",
        "print(f\"Mean Absolute Error (MAE): {mae_xgb:.2f}\")\n",
        "print(f\"Root Mean Squared Error (RMSE): {rmse_xgb:.2f}\")\n",
        "print(f\"R² Score: {r2_xgb:.2f}\")"
      ],
      "metadata": {
        "colab": {
          "base_uri": "https://localhost:8080/"
        },
        "id": "NSE8t-V2rwDD",
        "outputId": "61276823-670e-4cf4-da84-b43e9e7ce568"
      },
      "execution_count": null,
      "outputs": [
        {
          "output_type": "stream",
          "name": "stderr",
          "text": [
            "/usr/local/lib/python3.11/dist-packages/xgboost/core.py:158: UserWarning: [19:37:57] WARNING: /workspace/src/learner.cc:740: \n",
            "Parameters: { \"n_estimators\" } are not used.\n",
            "\n",
            "  warnings.warn(smsg, UserWarning)\n"
          ]
        },
        {
          "output_type": "stream",
          "name": "stdout",
          "text": [
            "XGBoost Model Performance:\n",
            "Mean Absolute Error (MAE): 833.33\n",
            "Root Mean Squared Error (RMSE): 4106.70\n",
            "R² Score: 0.19\n"
          ]
        }
      ]
    },
    {
      "cell_type": "markdown",
      "metadata": {
        "id": "UdMo2TA04cBi"
      },
      "source": [
        "# Step 6. Next Steps: Try with Random Forest\n",
        "Random Forest Model Implementation:"
      ]
    },
    {
      "cell_type": "code",
      "execution_count": null,
      "metadata": {
        "colab": {
          "base_uri": "https://localhost:8080/"
        },
        "id": "BKgfmKAp4bmn",
        "outputId": "3ebed680-2e7c-488f-c0ca-7748f0363570"
      },
      "outputs": [
        {
          "output_type": "stream",
          "name": "stdout",
          "text": [
            "Random Forest Model Performance:\n",
            "Mean Absolute Error (MAE): 0.63\n",
            "Root Mean Squared Error (RMSE): 10.84\n",
            "R² Score: 1.00\n"
          ]
        }
      ],
      "source": [
        "from sklearn.ensemble import RandomForestRegressor\n",
        "\n",
        "# Define the Random Forest model with initial hyperparameters\n",
        "rf_model = RandomForestRegressor(\n",
        "    n_estimators=200,\n",
        "    max_depth=10,\n",
        "    min_samples_split=5,\n",
        "    min_samples_leaf=2,\n",
        "    random_state=42,\n",
        "    n_jobs=-1\n",
        ")\n",
        "\n",
        "# Train the model\n",
        "rf_model.fit(X_train, y_train)\n",
        "\n",
        "# Make predictions\n",
        "y_pred_rf = rf_model.predict(X_test)\n",
        "\n",
        "# Evaluate the model\n",
        "mae_rf = mean_absolute_error(y_test, y_pred_rf)\n",
        "rmse_rf = np.sqrt(mean_squared_error(y_test, y_pred_rf))\n",
        "r2_rf = r2_score(y_test, y_pred_rf)\n",
        "\n",
        "print(\"Random Forest Model Performance:\")\n",
        "print(f\"Mean Absolute Error (MAE): {mae_rf:.2f}\")\n",
        "print(f\"Root Mean Squared Error (RMSE): {rmse_rf:.2f}\")\n",
        "print(f\"R² Score: {r2_rf:.2f}\")\n"
      ]
    },
    {
      "cell_type": "markdown",
      "metadata": {
        "id": "SHy5yayf4nk7"
      },
      "source": [
        "# Step 7. Fine-tune the Random Forest model to improve its performance by optimizing hyperparameters using Grid Search"
      ]
    },
    {
      "cell_type": "code",
      "execution_count": null,
      "metadata": {
        "id": "XbJkyALd4jgW"
      },
      "outputs": [],
      "source": [
        "# # Code for Random Forest Hyperparameter Tuning:\n",
        "\n",
        "# from sklearn.ensemble import RandomForestRegressor\n",
        "# from sklearn.model_selection import GridSearchCV\n",
        "\n",
        "# # Define the parameter grid\n",
        "# param_grid_rf = {\n",
        "#     'n_estimators': [100, 200, 300],  # Number of trees\n",
        "#     'max_depth': [10, 20, None],  # Max depth of trees\n",
        "#     'min_samples_split': [2, 5, 10],  # Minimum samples to split an internal node\n",
        "#     'min_samples_leaf': [1, 2, 4],  # Minimum samples required at a leaf node\n",
        "# }\n",
        "\n",
        "# # Initialize the Random Forest model\n",
        "# rf_model = RandomForestRegressor(random_state=42, n_jobs=-1)\n",
        "\n",
        "# # Perform Grid Search with cross-validation\n",
        "# grid_search_rf = GridSearchCV(\n",
        "#     estimator=rf_model,\n",
        "#     param_grid=param_grid_rf,\n",
        "#     cv=5,  # 5-fold cross-validation\n",
        "#     scoring='neg_mean_squared_error',\n",
        "#     n_jobs=-1,  # Use all available processors\n",
        "#     verbose=1  # Show progress\n",
        "# )\n",
        "\n",
        "# # Fit the model to the training data\n",
        "# grid_search_rf.fit(X_train, y_train)\n",
        "\n",
        "# # Get the best parameters\n",
        "# best_rf_params = grid_search_rf.best_params_\n",
        "# print(\"Best Hyperparameters for Random Forest:\", best_rf_params)\n",
        "\n",
        "# # Train the final model with the best parameters\n",
        "# optimized_rf_model = RandomForestRegressor(**best_rf_params, random_state=42)\n",
        "# optimized_rf_model.fit(X_train, y_train)\n",
        "\n",
        "# # Make predictions\n",
        "# y_pred_optimized_rf = optimized_rf_model.predict(X_test)\n",
        "\n",
        "# # Evaluate the model performance\n",
        "# mae_rf_opt = mean_absolute_error(y_test, y_pred_optimized_rf)\n",
        "# rmse_rf_opt = np.sqrt(mean_squared_error(y_test, y_pred_optimized_rf))\n",
        "# r2_rf_opt = r2_score(y_test, y_pred_optimized_rf)\n",
        "\n",
        "# print(\"\\nOptimized Random Forest Model Performance:\")\n",
        "# print(f\"Mean Absolute Error (MAE): {mae_rf_opt:.2f}\")\n",
        "# print(f\"Root Mean Squared Error (RMSE): {rmse_rf_opt:.2f}\")\n",
        "# print(f\"R² Score: {r2_rf_opt:.2f}\")\n"
      ]
    },
    {
      "cell_type": "markdown",
      "metadata": {
        "id": "1n8J42GG5AK8"
      },
      "source": [
        "# Step 8. Next Steps: Unsing Ensemble Modeling Approach"
      ]
    },
    {
      "cell_type": "code",
      "execution_count": null,
      "metadata": {
        "id": "7dpU_YLTQvSH"
      },
      "outputs": [],
      "source": [
        "!pip install --upgrade xgboost\n",
        "!pip install --upgrade scikit-learn"
      ]
    },
    {
      "source": [
        "#  Train Random Forest Model\n",
        "rf_model = RandomForestRegressor(n_estimators=300, max_depth=10, min_samples_split=10, min_samples_leaf=4, random_state=42)\n",
        "rf_model.fit(X_train, y_train)\n",
        "rf_preds = rf_model.predict(X_test)\n",
        "\n",
        "# Train XGBoost Model\n",
        "xgb_model = xgb.XGBRegressor(objective='reg:squarederror', learning_rate=0.05, max_depth=5, n_estimators=200, subsample=0.8, colsample_bytree=0.8, random_state=42)\n",
        "# Convert X_train to a NumPy array to ensure compatibility with xgboost\n",
        "xgb_model.fit(X_train.to_numpy(), y_train)  # Convert X_train to NumPy array\n",
        "xgb_preds = xgb_model.predict(X_test.to_numpy()) # Convert X_test to NumPy array as well"
      ],
      "cell_type": "code",
      "metadata": {
        "id": "D7RiJI1az2fG"
      },
      "execution_count": null,
      "outputs": []
    },
    {
      "cell_type": "code",
      "execution_count": null,
      "metadata": {
        "colab": {
          "base_uri": "https://localhost:8080/"
        },
        "id": "4WQ6p67ORJ0n",
        "outputId": "a58539aa-f63a-482f-a2fe-2a3a249e0d1b"
      },
      "outputs": [
        {
          "output_type": "stream",
          "name": "stdout",
          "text": [
            "Manual Stacking Ensemble Model Performance:\n",
            "Mean Absolute Error (MAE): 1.60\n",
            "Root Mean Squared Error (RMSE): 16.46\n",
            "R² Score: 1.00\n"
          ]
        }
      ],
      "source": [
        "# Step 2: Combine Predictions Using a Meta-Model\n",
        "\n",
        "from sklearn.linear_model import LinearRegression\n",
        "\n",
        "# Stack the predictions as new features\n",
        "stacked_features = np.column_stack((rf_preds, xgb_preds))\n",
        "\n",
        "# Train a meta-model (Linear Regression) on top of the stacked predictions\n",
        "meta_model = LinearRegression()\n",
        "meta_model.fit(stacked_features, y_test)\n",
        "\n",
        "# Predict final ESV values using the ensemble\n",
        "final_predictions = meta_model.predict(stacked_features)\n",
        "\n",
        "# Evaluate the performance of the stacked ensemble model\n",
        "mae_stacking = mean_absolute_error(y_test, final_predictions)\n",
        "rmse_stacking = np.sqrt(mean_squared_error(y_test, final_predictions))\n",
        "r2_stacking = r2_score(y_test, final_predictions)\n",
        "\n",
        "print(\"Manual Stacking Ensemble Model Performance:\")\n",
        "print(f\"Mean Absolute Error (MAE): {mae_stacking:.2f}\")\n",
        "print(f\"Root Mean Squared Error (RMSE): {rmse_stacking:.2f}\")\n",
        "print(f\"R² Score: {r2_stacking:.2f}\")\n"
      ]
    },
    {
      "cell_type": "markdown",
      "source": [
        "# Step 9. Compare The Model (Actual vs Predicted)"
      ],
      "metadata": {
        "id": "LXQQ1Iu02rNn"
      }
    },
    {
      "cell_type": "code",
      "source": [
        "!pip install xgboost\n",
        "!pip install --upgrade scikit-learn\n"
      ],
      "metadata": {
        "colab": {
          "base_uri": "https://localhost:8080/"
        },
        "id": "CNxjP8dbUJ9c",
        "outputId": "922a0f2a-f472-446c-a628-e98f22e36fe8"
      },
      "execution_count": null,
      "outputs": [
        {
          "output_type": "stream",
          "name": "stdout",
          "text": [
            "Requirement already satisfied: xgboost in /usr/local/lib/python3.11/dist-packages (2.1.4)\n",
            "Requirement already satisfied: numpy in /usr/local/lib/python3.11/dist-packages (from xgboost) (1.26.4)\n",
            "Requirement already satisfied: nvidia-nccl-cu12 in /usr/local/lib/python3.11/dist-packages (from xgboost) (2.21.5)\n",
            "Requirement already satisfied: scipy in /usr/local/lib/python3.11/dist-packages (from xgboost) (1.13.1)\n",
            "Requirement already satisfied: scikit-learn in /usr/local/lib/python3.11/dist-packages (1.6.1)\n",
            "Requirement already satisfied: numpy>=1.19.5 in /usr/local/lib/python3.11/dist-packages (from scikit-learn) (1.26.4)\n",
            "Requirement already satisfied: scipy>=1.6.0 in /usr/local/lib/python3.11/dist-packages (from scikit-learn) (1.13.1)\n",
            "Requirement already satisfied: joblib>=1.2.0 in /usr/local/lib/python3.11/dist-packages (from scikit-learn) (1.4.2)\n",
            "Requirement already satisfied: threadpoolctl>=3.1.0 in /usr/local/lib/python3.11/dist-packages (from scikit-learn) (3.5.0)\n"
          ]
        }
      ]
    },
    {
      "cell_type": "code",
      "source": [
        "import xgboost as xgb\n",
        "from sklearn.metrics import mean_absolute_error, mean_squared_error, r2_score\n",
        "\n",
        "\n",
        "# Initialize the XGBoost Regressor\n",
        "xgb_model = xgb.XGBRegressor(\n",
        "    objective='reg:squarederror',  # Standard regression objective\n",
        "    n_estimators=100,  # Number of trees\n",
        "    learning_rate=0.1,  # Step size\n",
        "    max_depth=6,  # Depth of each tree\n",
        "    random_state=42\n",
        ")\n",
        "\n",
        "# Train the model on the training dataset\n",
        "# Convert X_train and y_train to NumPy arrays\n",
        "xgb_model.fit(X_train.to_numpy(), y_train.to_numpy())\n",
        "\n",
        "# Make predictions on the test set\n",
        "# Convert X_test to a NumPy array\n",
        "y_pred = xgb_model.predict(X_test.to_numpy())\n",
        "\n",
        "\n",
        "# Calculate performance metrics\n",
        "mae = mean_absolute_error(y_test, y_pred)\n",
        "# rmse = mean_squared_error(y_test, y_pred, squared=False)\n",
        "rmse = mean_squared_error(y_test, y_pred) ** 0.5\n",
        "\n",
        "r2 = r2_score(y_test, y_pred)\n",
        "\n",
        "# Print the results\n",
        "print(f\"XGBoost Model Performance:\")\n",
        "print(f\"Mean Absolute Error (MAE): {mae:.2f}\")\n",
        "print(f\"Root Mean Squared Error (RMSE): {rmse:.2f}\")\n",
        "print(f\"R² Score: {r2:.2f}\")"
      ],
      "metadata": {
        "colab": {
          "base_uri": "https://localhost:8080/"
        },
        "id": "iOMfDw-7VlJK",
        "outputId": "3bd83616-0165-46c8-b7e3-236dee2cc019"
      },
      "execution_count": null,
      "outputs": [
        {
          "output_type": "stream",
          "name": "stdout",
          "text": [
            "XGBoost Model Performance:\n",
            "Mean Absolute Error (MAE): 832.91\n",
            "Root Mean Squared Error (RMSE): 4107.95\n",
            "R² Score: 0.19\n"
          ]
        }
      ]
    },
    {
      "source": [
        "# Identify the actual and predicted ESV values correctly instead of using random values, follow these steps:\n",
        "# 1. Extract Actual ESV Values\n",
        "actual_esv = y_test.values  # Ensure y_test is an array\n",
        "\n",
        "\n",
        "# 2. Extract Predicted ESV Values\n",
        "predicted_esv = y_pred  # Ensure this is the array of predictions\n",
        "\n",
        "# 3. Ensure Matching Lengths\n",
        "print(len(actual_esv), len(predicted_esv))\n",
        "\n",
        "# 4. Associate Values with Years\n",
        "# Extract years from X_test (assuming 'Present Value Year' exists)\n",
        "if \"Present Value Year\" in X_test.columns:\n",
        "    years = X_test[\"Present Value Year\"].values  # Convert to array\n",
        "else:\n",
        "    # The column name was changed to 'year' earlier in the code.\n",
        "    # Changed 'Year_Pub' to 'year' to access the correct column.\n",
        "    years = final_merged_df.loc[X_test.index, \"year\"].values  # Fallback if needed\n",
        "\n",
        "\n",
        "# 5. Create a DataFrame for Analysis\n",
        "import pandas as pd\n",
        "\n",
        "esv_results = pd.DataFrame({\n",
        "    \"Year\": years,\n",
        "    \"Actual ESV\": actual_esv,\n",
        "    \"Predicted ESV\": predicted_esv\n",
        "})\n",
        "\n",
        "# Sort by year to ensure time series consistency\n",
        "esv_results = esv_results.sort_values(by=\"Year\")\n",
        "\n",
        "# 6. Check If Values Make Sense\n",
        "print(esv_results.head())"
      ],
      "cell_type": "code",
      "metadata": {
        "colab": {
          "base_uri": "https://localhost:8080/"
        },
        "id": "vkUoW3YDeH63",
        "outputId": "1ca616da-d074-407b-f4c8-454e88f54fb4"
      },
      "execution_count": null,
      "outputs": [
        {
          "output_type": "stream",
          "name": "stdout",
          "text": [
            "6483 6483\n",
            "      Year   Actual ESV  Predicted ESV\n",
            "195   2000     0.024108       5.503124\n",
            "670   2000  1523.030317    1780.021973\n",
            "5238  2000     6.981358      38.386356\n",
            "5704  2000    24.545508      38.386356\n",
            "3918  2000     0.005358       5.503124\n"
          ]
        }
      ]
    },
    {
      "cell_type": "code",
      "source": [
        "import matplotlib.pyplot as plt\n",
        "\n",
        "# Ensure X_test contains valid year information\n",
        "if \"Present Value Year\" in X_test.columns:\n",
        "    years_test = X_test[\"Present Value Year\"]\n",
        "else:\n",
        "    # Use \"year\" instead of \"Year_Pub\"\n",
        "    years_test = final_merged_df.loc[X_test.index, \"year\"]  # Fallback to year if needed\n",
        "\n",
        "# Create a DataFrame for plotting\n",
        "results_df = pd.DataFrame({'Year': years_test, 'Actual ESV': y_test, 'Predicted ESV': y_pred})\n",
        "\n",
        "# Aggregate by year to smooth the time series\n",
        "results_df = results_df.groupby(\"Year\")[[\"Actual ESV\", \"Predicted ESV\"]].mean()\n",
        "\n",
        "# Plot actual vs. predicted ESV values over time\n",
        "plt.figure(figsize=(7, 4))\n",
        "plt.plot(results_df.index, results_df[\"Actual ESV\"], label=\"Actual ESV\", marker='o', linestyle=\"-\", color=\"blue\", alpha=0.7)\n",
        "plt.plot(results_df.index, results_df[\"Predicted ESV\"], label=\"Predicted ESV\", marker='s', linestyle=\"-\", color=\"green\", alpha=0.7)\n",
        "\n",
        "# Labels and title\n",
        "plt.xlabel(\"Year\")\n",
        "plt.ylabel(\"ESV Value ($/ha/yr)\")\n",
        "plt.title(\"Time Series of Actual vs. Predicted ESV Values\")\n",
        "plt.legend()\n",
        "plt.grid(True)\n",
        "\n",
        "# Show the plot\n",
        "plt.show()"
      ],
      "metadata": {
        "colab": {
          "base_uri": "https://localhost:8080/",
          "height": 410
        },
        "id": "HFcM-_ddaS_H",
        "outputId": "493f031b-895e-4304-9782-f8d1d8205f10"
      },
      "execution_count": null,
      "outputs": [
        {
          "output_type": "display_data",
          "data": {
            "text/plain": [
              "<Figure size 700x400 with 1 Axes>"
            ],
            "image/png": "[encoded data removed]"
          },
          "metadata": {}
        }
      ]
    },
    {
      "cell_type": "code",
      "source": [
        "import matplotlib.pyplot as plt\n",
        "import pandas as pd\n",
        "\n",
        "# Ensure 'Year' is included and properly aligned with the data\n",
        "if \"Present Value Year\" in X_test.columns:\n",
        "    years = X_test[\"Present Value Year\"].values\n",
        "else:\n",
        "    years = final_merged_df.loc[X_test.index, \"year\"].values  # Fallback if needed\n",
        "\n",
        "# Create DataFrame with years, actual, and predicted values\n",
        "esv_results = pd.DataFrame({\n",
        "    \"Year\": years,\n",
        "    \"Actual ESV\": y_test.values,\n",
        "    \"Predicted ESV\": y_pred\n",
        "})\n",
        "\n",
        "# Aggregate by year to get a single trend line\n",
        "esv_results_grouped = esv_results.groupby(\"Year\")[[\"Actual ESV\", \"Predicted ESV\"]].mean()\n",
        "\n",
        "# Plot the corrected time series\n",
        "plt.figure(figsize=(7, 4))\n",
        "plt.plot(esv_results_grouped.index, esv_results_grouped[\"Actual ESV\"], label=\"Actual ESV\", marker='o', linestyle=\"-\", color=\"blue\", alpha=0.7)\n",
        "plt.plot(esv_results_grouped.index, esv_results_grouped[\"Predicted ESV\"], label=\"Predicted ESV\", marker='s', linestyle=\"-\", color=\"green\", alpha=0.7)\n",
        "\n",
        "# Labels and title\n",
        "plt.xlabel(\"Year\")\n",
        "plt.ylabel(\"ESV Value ($/ha/yr)\")\n",
        "plt.title(\"Time Series of Actual vs. Predicted ESV Values\")\n",
        "plt.legend()\n",
        "plt.grid(True)\n",
        "\n",
        "# Show the plot\n",
        "plt.show()\n"
      ],
      "metadata": {
        "colab": {
          "base_uri": "https://localhost:8080/",
          "height": 410
        },
        "id": "tLjDbusOWSaK",
        "outputId": "d86ea17b-b07b-4bf6-a9ed-39251465ec9f"
      },
      "execution_count": null,
      "outputs": [
        {
          "output_type": "display_data",
          "data": {
            "text/plain": [
              "<Figure size 700x400 with 1 Axes>"
            ],
            "image/png": "[encoded data removed]"
          },
          "metadata": {}
        }
      ]
    },
    {
      "cell_type": "code",
      "source": [
        "import matplotlib.pyplot as plt\n",
        "import pandas as pd\n",
        "\n",
        "# Ensure X_test contains valid year information\n",
        "if \"Present Value Year\" in X_test.columns:\n",
        "    years_test = X_test[\"Present Value Year\"]\n",
        "else:\n",
        "    years_test = final_merged_df.loc[X_test.index, \"year\"]  # Fallback to Year_Pub if needed\n",
        "\n",
        "# Create a DataFrame for plotting\n",
        "results_df = pd.DataFrame({'Year': years_test, 'Actual ESV': y_test, 'Predicted ESV': y_pred})\n",
        "\n",
        "# Aggregate by year to smooth the time series (using mean)\n",
        "results_df = results_df.groupby(\"Year\")[[\"Actual ESV\", \"Predicted ESV\"]].mean().reset_index()\n",
        "\n",
        "# Plot actual vs. predicted ESV values over time\n",
        "plt.figure(figsize=(7, 4))\n",
        "plt.plot(results_df[\"Year\"], results_df[\"Actual ESV\"], label=\"Actual ESV\", marker='o', linestyle=\"-\", color=\"blue\", alpha=0.7)\n",
        "plt.plot(results_df[\"Year\"], results_df[\"Predicted ESV\"], label=\"Predicted ESV\", marker='s', linestyle=\"-\", color=\"red\", alpha=0.7)\n",
        "\n",
        "# Labels and title\n",
        "plt.xlabel(\"Year\")\n",
        "plt.ylabel(\"ESV Value ($/ha/month)\")\n",
        "plt.title(\"Time Series of Actual vs. Predicted ESV \")\n",
        "plt.legend()\n",
        "plt.grid(True)\n",
        "\n",
        "# Show the plot\n",
        "plt.show()\n"
      ],
      "metadata": {
        "colab": {
          "base_uri": "https://localhost:8080/",
          "height": 410
        },
        "id": "_qqj1YKpUJvT",
        "outputId": "79f2e8f9-2685-4225-fad3-1fa8248e6655"
      },
      "execution_count": null,
      "outputs": [
        {
          "output_type": "display_data",
          "data": {
            "text/plain": [
              "<Figure size 700x400 with 1 Axes>"
            ],
            "image/png": "[encoded data removed]"
          },
          "metadata": {}
        }
      ]
    }
  ]
}